{
 "cells": [
  {
   "cell_type": "code",
   "execution_count": 1,
   "id": "b6ff7c4b",
   "metadata": {},
   "outputs": [
    {
     "name": "stdout",
     "output_type": "stream",
     "text": [
      "2023-09-23 18:53:48.364843\n",
      "2023-09-23 18:54:34.536411\n"
     ]
    }
   ],
   "source": [
    "from selenium import webdriver\n",
    "from selenium.webdriver.common.by import By\n",
    "\n",
    "import pandas as pd\n",
    "\n",
    "import os\n",
    "import datetime\n",
    "\n",
    "print(datetime.datetime.now())\n",
    "\n",
    "options = webdriver.ChromeOptions()\n",
    "options.add_experimental_option(\"prefs\", {\n",
    "  \"download.default_directory\": r\"C:\\Users\\thiag_vrxui9r\\downloads\",\n",
    "  \"download.prompt_for_download\": False,\n",
    "  \"download.directory_upgrade\": True,\n",
    "  \"safebrowsing.enabled\": True\n",
    "})\n",
    "\n",
    "navegador = webdriver.Chrome(options=options)\n",
    "\n",
    "caminho = os.getcwd()\n",
    "arquivo = caminho + '\\login.html'\n",
    "\n",
    "navegador.get(arquivo)\n",
    "\n",
    "base_notas = pd.read_excel('NotasEmitir.xlsx')\n",
    "\n",
    "navegador.find_element(By.XPATH, '/html/body/div/form/input[1]').send_keys('thiagothomaz041@gmail.com')\n",
    "navegador.find_element(By.XPATH, '/html/body/div/form/input[2]').send_keys('78952P3r3ir4!')\n",
    "navegador.find_element(By.XPATH, '/html/body/div/form/button').click()\n",
    "\n",
    "for i in range(len(base_notas)):\n",
    "    navegador.find_element(By.XPATH, '//*[@id=\"nome\"]').send_keys(base_notas['Cliente'][i])\n",
    "    navegador.find_element(By.NAME, 'endereco').send_keys(base_notas['Endereço'][i])\n",
    "    navegador.find_element(By.NAME, 'bairro').send_keys(base_notas['Bairro'][i])\n",
    "    navegador.find_element(By.NAME, 'municipio').send_keys(base_notas['Municipio'][i])\n",
    "    navegador.find_element(By.NAME, 'cep').send_keys(str(base_notas['CEP'][i]))\n",
    "    navegador.find_element(By.NAME, 'uf').send_keys(base_notas['UF'][i])\n",
    "    navegador.find_element(By.NAME, 'cnpj').send_keys(str(base_notas['CPF/CNPJ'][i]))\n",
    "    navegador.find_element(By.NAME, 'inscricao').send_keys(str(base_notas['Inscricao Estadual'][i]))\n",
    "    navegador.find_element(By.NAME, 'descricao').send_keys(base_notas['Descrição'][i])\n",
    "    navegador.find_element(By.NAME, 'quantidade').send_keys(str(base_notas['Quantidade'][i]))\n",
    "    navegador.find_element(By.NAME, 'valor_unitario').send_keys(str(base_notas['Valor Unitario'][i]))\n",
    "    navegador.find_element(By.NAME, 'total').send_keys(str(base_notas['Valor Total'][i])) \n",
    "    navegador.find_element(By.XPATH, '//*[@id=\"formulario\"]/button').click()\n",
    "    navegador.refresh()\n",
    "    \n",
    "print(datetime.datetime.now())"
   ]
  },
  {
   "cell_type": "code",
   "execution_count": null,
   "id": "74f3ba16",
   "metadata": {},
   "outputs": [],
   "source": [
    "#navegador.find_element(By.XPATH, '//*[@id=\"nome\"]').clear()\n",
    "#navegador.find_element(By.NAME, 'endereco').clear()\n",
    "#navegador.find_element(By.NAME, 'bairro').clear()\n",
    "#navegador.find_element(By.NAME, 'municipio').clear()\n",
    "#navegador.find_element(By.NAME, 'cep').clear()\n",
    "#navegador.find_element(By.NAME, 'cnpj').clear()\n",
    "#navegador.find_element(By.NAME, 'inscricao').clear()\n",
    "#navegador.find_element(By.NAME, 'descricao').clear()\n",
    "#navegador.find_element(By.NAME, 'quantidade').clear()\n",
    "#navegador.find_element(By.NAME, 'valor_unitario').clear()\n",
    "#navegador.find_element(By.NAME, 'total').clear()"
   ]
  },
  {
   "cell_type": "code",
   "execution_count": null,
   "id": "9e781cfe",
   "metadata": {},
   "outputs": [],
   "source": []
  }
 ],
 "metadata": {
  "kernelspec": {
   "display_name": "Python 3 (ipykernel)",
   "language": "python",
   "name": "python3"
  },
  "language_info": {
   "codemirror_mode": {
    "name": "ipython",
    "version": 3
   },
   "file_extension": ".py",
   "mimetype": "text/x-python",
   "name": "python",
   "nbconvert_exporter": "python",
   "pygments_lexer": "ipython3",
   "version": "3.10.9"
  }
 },
 "nbformat": 4,
 "nbformat_minor": 5
}
