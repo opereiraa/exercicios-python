{
 "cells": [
  {
   "cell_type": "markdown",
   "metadata": {},
   "source": [
    "# Exercícios\n",
    "\n",
    "## 1. Criando um Registro de Hóspedes\n",
    "\n",
    "Digamos que você está criando o sistema para registrar a chegada de hóspedes em um hotel. No hotel, os hóspedes podem ter quartos com 1, 2, 3 e 4 pessoas. Seu sistema deve conseguir:\n",
    "\n",
    "1. Identificar quantas pessoas o hóspede que acabou de chegar vai ter no quarto (perguntando por meio de input)\n",
    "2. De acordo com a quantidade de pessoas do hóspede, ele deve fazer um for para perguntar o cpf e o nome de cada pessoa, a fim de registrá-la no quarto (2 inputs para cada pessoa, 1 para o cpf e outro para o nome)\n",
    "3. O seu programa então deve gerar uma lista com todas as pessoas que ficarão no quarto em que cada item dessa lista é o nome da pessoa e o cpf da pessoa, assim:"
   ]
  },
  {
   "cell_type": "raw",
   "metadata": {},
   "source": [
    "quarto = [\n",
    "    ['João', 'cpf:00000000000'],\n",
    "    ['Julia', 'cpf:11111111111'],\n",
    "    ['Marcus', 'cpf:22222222222'],\n",
    "    ['Maria', 'cpf:33333333333'],\n",
    "]"
   ]
  },
  {
   "cell_type": "markdown",
   "metadata": {},
   "source": [
    "- Para simplificar, não vamos nos preocupar com possibilidades de \"tentar colocar mais de 1 hóspede, digitar o cpf errado, etc. Nosso objetivo é treinar a criação de uma rotina de cadastro"
   ]
  },
  {
   "cell_type": "code",
   "execution_count": 25,
   "metadata": {},
   "outputs": [
    {
     "name": "stdout",
     "output_type": "stream",
     "text": [
      "Qual a quantidade de pessoas?2\n",
      "Insira o nome da pessoa: Thiago\n",
      "Insira o cpf da pessoa: 11239820909\n",
      "Insira o nome da pessoa: Emerson\n",
      "Insira o cpf da pessoa: 88578801920\n",
      "[['Thiago', '11239820909'], ['Emerson', '88578801920']]\n"
     ]
    }
   ],
   "source": [
    "qtd_hospedes = int(input('Qual a quantidade de pessoas?'))\n",
    "\n",
    "if qtd_hospedes < 1 or qtd_hospedes > 4:\n",
    "    print('A quantidade de pessoas deve ser pelo menos 1 e não deve ultrapassar a 4.')\n",
    "\n",
    "quarto = []\n",
    "\n",
    "for i in range(qtd_hospedes):\n",
    "    nome = input('Insira o nome da pessoa: ')\n",
    "    cpf = input('Insira o cpf da pessoa: ')\n",
    "    hospede = [nome, cpf]\n",
    "    quarto.append(hospede)\n",
    "\n",
    "print(quarto)"
   ]
  },
  {
   "cell_type": "markdown",
   "metadata": {},
   "source": [
    "## 2. Análise de Vendas\n",
    "\n",
    "Nesse exercício vamos fazer uma \"análise simples\" de atingimento de Meta.\n",
    "\n",
    "Temos uma lista com os vendedores e os valores de vendas e queremos identificar (printar) quais os vendedores que bateram a meta e qual foi o valor que eles venderam."
   ]
  },
  {
   "cell_type": "code",
   "execution_count": 87,
   "metadata": {},
   "outputs": [
    {
     "name": "stdout",
     "output_type": "stream",
     "text": [
      "O vendedor João bateu a meta com 15000 vendas.\n",
      "O vendedor Julia bateu a meta com 27000 vendas.\n",
      "O vendedor Ana bateu a meta com 10300 vendas.\n"
     ]
    }
   ],
   "source": [
    "meta = 10000\n",
    "vendas = [\n",
    "    ['João', 15000],\n",
    "    ['Julia', 27000],\n",
    "    ['Marcus', 9900],\n",
    "    ['Maria', 3750],\n",
    "    ['Ana', 10300],\n",
    "    ['Alon', 7870],\n",
    "]\n",
    "#seu código aqui\n",
    "\n",
    "for item in vendas:\n",
    "    if item[1] >= meta:\n",
    "        print('O vendedor {} bateu a meta com {} vendas.'.format(item[0], item[1]))"
   ]
  },
  {
   "cell_type": "markdown",
   "metadata": {},
   "source": [
    "## 3. Comparação com Ano Anterior\n",
    "\n",
    "Digamos que você está analisando as vendas de produtos de um ecommerce e quer identificar quais produtos tiveram no ano de 2020 mais vendas do que no ano de 2019, para reportar isso para a diretoria.\n",
    "\n",
    "Sua resposta pode ser um print de cada produto, qual foi a venda de 2019, a venda de 2020 e o % de crescimento de 2020 para 2019.\n",
    "\n",
    "Lembrando, para calcular o % de crescimento de um produto de um ano para o outro, podemos fazer: (vendas_produto2020/vendas_produto2019 - 1)\n",
    "\n",
    "Dica: lembre do enumerate, ele pode facilitar seu \"for\""
   ]
  },
  {
   "cell_type": "code",
   "execution_count": 89,
   "metadata": {},
   "outputs": [
    {
     "name": "stdout",
     "output_type": "stream",
     "text": [
      "O produto iphone teve um crescimento de 70.50%. Em 2019 sua venda foi de R$558,147,\n",
      "enquanto que em 2020 foi de R$951,642\n",
      "\n",
      "\n",
      "O produto tv teve um crescimento de 94.35%. Em 2019 sua venda foi de R$405,252,\n",
      "enquanto que em 2020 foi de R$787,604\n",
      "\n",
      "\n",
      "O produto máquina de café teve um crescimento de 20.73%. Em 2019 sua venda foi de R$718,654,\n",
      "enquanto que em 2020 foi de R$867,660\n",
      "\n",
      "\n",
      "O produto notebook dell teve um crescimento de 64.38%. Em 2019 sua venda foi de R$422,760,\n",
      "enquanto que em 2020 foi de R$694,913\n",
      "\n",
      "\n",
      "O produto notebook hp teve um crescimento de 248.75%. Em 2019 sua venda foi de R$154,753,\n",
      "enquanto que em 2020 foi de R$539,704\n",
      "\n",
      "\n",
      "O produto microsoft surface teve um crescimento de 52.15%. Em 2019 sua venda foi de R$438,508,\n",
      "enquanto que em 2020 foi de R$667,179\n",
      "\n",
      "\n",
      "O produto webcam teve um crescimento de 24.49%. Em 2019 sua venda foi de R$237,467,\n",
      "enquanto que em 2020 foi de R$295,633\n",
      "\n",
      "\n",
      "O produto caixa de som teve um crescimento de 48.11%. Em 2019 sua venda foi de R$489,705,\n",
      "enquanto que em 2020 foi de R$725,316\n",
      "\n",
      "\n",
      "O produto microfone teve um crescimento de 96.34%. Em 2019 sua venda foi de R$328,311,\n",
      "enquanto que em 2020 foi de R$644,622\n",
      "\n",
      "\n",
      "O produto câmera canon teve um crescimento de 68.21%. Em 2019 sua venda foi de R$591,120,\n",
      "enquanto que em 2020 foi de R$994,303\n",
      "\n",
      "\n"
     ]
    }
   ],
   "source": [
    "produtos = ['iphone', 'galaxy', 'ipad', 'tv', 'máquina de café', 'kindle', 'geladeira', 'adega', 'notebook dell', 'notebook hp', 'notebook asus', 'microsoft surface', 'webcam', 'caixa de som', 'microfone', 'câmera canon']\n",
    "vendas2019 = [558147,712350,573823,405252,718654,531580,973139,892292,422760,154753,887061,438508,237467,489705,328311,591120]\n",
    "vendas2020 = [951642,244295,26964,787604,867660,78830,710331,646016,694913,539704,324831,667179,295633,725316,644622,994303]\n",
    "#seu código aqui\n",
    "\n",
    "qtd_vendas = len(vendas2019)\n",
    "\n",
    "for i, vendas in enumerate(range(qtd_vendas)):\n",
    "     if vendas2019[i] < vendas2020[i]:\n",
    "        percentual = vendas2020[i]/vendas2019[i] - 1\n",
    "        print('''O produto {} teve um crescimento de {:.2%}. Em 2019 sua venda foi de R${:,},\n",
    "enquanto que em 2020 foi de R${:,}\n",
    "\n",
    "'''.format(produtos[i], percentual, vendas2019[i], vendas2020[i]))"
   ]
  }
 ],
 "metadata": {
  "kernelspec": {
   "display_name": "Python 3 (ipykernel)",
   "language": "python",
   "name": "python3"
  },
  "language_info": {
   "codemirror_mode": {
    "name": "ipython",
    "version": 3
   },
   "file_extension": ".py",
   "mimetype": "text/x-python",
   "name": "python",
   "nbconvert_exporter": "python",
   "pygments_lexer": "ipython3",
   "version": "3.9.12"
  }
 },
 "nbformat": 4,
 "nbformat_minor": 4
}
