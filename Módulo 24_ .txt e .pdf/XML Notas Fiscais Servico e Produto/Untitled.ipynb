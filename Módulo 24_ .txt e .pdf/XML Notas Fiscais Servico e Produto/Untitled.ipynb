{
 "cells": [
  {
   "cell_type": "markdown",
   "id": "b60faec4",
   "metadata": {},
   "source": [
    "Criar um programa para percorrer um arquivo .xml pegando as informações e as armazenando em uma planilha.\n",
    "\n",
    "Informações: Nº da Nota, Data de Emissão, Vencimento, CNPJ Emitente, Razão Social Emitente, CNPJ/CPF Comprador, Razão Social Comprador, Produtos, Valores Unitários dos Produtos, Valores Totais por Produtos,"
   ]
  },
  {
   "cell_type": "code",
   "execution_count": 11,
   "id": "e0099db1",
   "metadata": {},
   "outputs": [],
   "source": [
    "import xmltodict, pprint, datetime, os\n",
    "import pandas as pd"
   ]
  },
  {
   "cell_type": "code",
   "execution_count": 21,
   "id": "472fe6f9",
   "metadata": {},
   "outputs": [
    {
     "ename": "SyntaxError",
     "evalue": "(unicode error) 'unicodeescape' codec can't decode bytes in position 2-3: truncated \\UXXXXXXXX escape (2611416783.py, line 39)",
     "output_type": "error",
     "traceback": [
      "\u001b[1;36m  Input \u001b[1;32mIn [21]\u001b[1;36m\u001b[0m\n\u001b[1;33m    lista_arquivos = os.listdir('C:\\Users\\Matheus\\OneDrive - Universidade Estadual do Paraná - Unespar\\Cursos e Trabalhos\\14 [HASHTAG] PYTHON\\Módulo 20_ .txt e .pdf\\XML Notas Fiscais Servico e Produto')\u001b[0m\n\u001b[1;37m                                                                                                                                                                                                         ^\u001b[0m\n\u001b[1;31mSyntaxError\u001b[0m\u001b[1;31m:\u001b[0m (unicode error) 'unicodeescape' codec can't decode bytes in position 2-3: truncated \\UXXXXXXXX escape\n"
     ]
    }
   ],
   "source": [
    "def tratar_xml(nota):\n",
    "    with open(nota, rb) as arquivo:\n",
    "        dict_arquivo = xmltodict.parse(arquivo)\n",
    "    dict_arquivo = dict_arquivo['nfeProc']['NFe']['infNFe'] \n",
    "#dict_keys(['@versao', '@Id', 'ide', 'emit', 'dest', 'det', 'total', 'transp', 'cobr', 'pag', 'infAdic', 'compra'])\n",
    "\n",
    "    produtos = dict_arquivo['det']\n",
    "    num_nota = dict_arquivo['ide']['nNF']\n",
    "    data_emissao = dict_arquivo['ide']['dhEmi']\n",
    "    cnpj_emitente = dict_arquivo['emit']['CNPJ']\n",
    "    nome_emitente = dict_arquivo['emit']['xNome']\n",
    "    cnpj_comprador = dict_arquivo['dest']['CPF']\n",
    "    nome_comprador = dict_arquivo['dest']['xNome']\n",
    "    lista_produtos = [] \n",
    "\n",
    "    for produto in produtos:\n",
    "        nome_produto = produto['prod']['xProd']\n",
    "        valor_produto = produto['prod']['vProd']\n",
    "        lista_produtos.append([nome_produto, valor_produto])\n",
    "    \n",
    "    valor_total = dict_arquivo['cobr']['dup']['vDup']\n",
    "    vencimento = dict_arquivo['cobr']['dup']['dVenc']\n",
    "\n",
    "    resposta = {\n",
    "        'Nº da Nota:': [num_nota], \n",
    "        'Data de Emissão:': [data_emissao], \n",
    "        'CNPJ Emitente:': [cnpj_emitente],\n",
    "        'Nome Emitente:': [nome_emitente],\n",
    "        'CNPJ Comprador:': [cnpj_comprador],\n",
    "        'Nome Comprador:': [nome_comprador],\n",
    "        'Produtos:': [lista_produtos],\n",
    "        'Valor Total:': [valor_total],\n",
    "        'Vencimento:': [vencimento]\n",
    "    }\n",
    "    return resposta\n",
    "\n",
    "pd.DataFrame()\n",
    "\n",
    "lista_arquivos = os.listdir('C:\\Users\\Matheus\\OneDrive - Universidade Estadual do Paraná - Unespar\\Cursos e Trabalhos\\14 [HASHTAG] PYTHON\\Módulo 20_ .txt e .pdf\\XML Notas Fiscais Servico e Produto')\n",
    "for arquivo in lista_arquivo:\n",
    "    if 'xml' in arquivo:\n",
    "        if 'DANFE' in arquivo:\n",
    "            tratar_xml(arquivo)\n",
    "            tabela = pd.DataFrame.append(resposta)\n",
    "\n",
    "\n",
    "tabela.to_excel('NFS.xlsx')"
   ]
  }
 ],
 "metadata": {
  "kernelspec": {
   "display_name": "Python 3 (ipykernel)",
   "language": "python",
   "name": "python3"
  },
  "language_info": {
   "codemirror_mode": {
    "name": "ipython",
    "version": 3
   },
   "file_extension": ".py",
   "mimetype": "text/x-python",
   "name": "python",
   "nbconvert_exporter": "python",
   "pygments_lexer": "ipython3",
   "version": "3.9.12"
  }
 },
 "nbformat": 4,
 "nbformat_minor": 5
}
