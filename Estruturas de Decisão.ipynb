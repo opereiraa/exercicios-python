{
 "cells": [
  {
   "cell_type": "markdown",
   "id": "8535c274",
   "metadata": {
    "id": "8535c274"
   },
   "source": [
    "# Estruturas de decisão\n",
    "\n",
    "<span style=\"color: red;\"><b>Todos os exercícios são feitos partindo-se do pressuposto de que todas as entradas são dadas de forma correta. Casos limite não mencionados no enunciado não são abordados porque não fazem parte do exercício.</b></span>"
   ]
  },
  {
   "cell_type": "markdown",
   "id": "9c3d817e",
   "metadata": {
    "id": "9c3d817e"
   },
   "source": [
    "#### 1. Faça um Programa que peça dois números e imprima o maior deles."
   ]
  },
  {
   "cell_type": "code",
   "execution_count": 10,
   "id": "ae45c028",
   "metadata": {
    "id": "ae45c028"
   },
   "outputs": [
    {
     "name": "stdout",
     "output_type": "stream",
     "text": [
      "Preencha o primeiro número: 546\n",
      "Preencha o segundo número: 4684\n",
      "4684\n"
     ]
    }
   ],
   "source": [
    "x = int(input(\"Preencha o primeiro número: \"))\n",
    "y = int(input(\"Preencha o segundo número: \"))\n",
    "\n",
    "if x > y:\n",
    "    print(x)\n",
    "else:\n",
    "    print(y)"
   ]
  },
  {
   "cell_type": "markdown",
   "id": "ff510803",
   "metadata": {
    "id": "ff510803"
   },
   "source": [
    "#### 2. Faça um Programa que peça um valor e mostre na tela se o valor é positivo ou negativo."
   ]
  },
  {
   "cell_type": "code",
   "execution_count": 14,
   "id": "8952f58f",
   "metadata": {
    "id": "8952f58f"
   },
   "outputs": [
    {
     "name": "stdout",
     "output_type": "stream",
     "text": [
      "Informe o valor: 0\n",
      "O valor é Positivo\n"
     ]
    }
   ],
   "source": [
    "valor = int(input(\"Informe o valor: \"))\n",
    "\n",
    "if valor < 0:\n",
    "    print(\"O valor é Negativo\")\n",
    "else:\n",
    "    print(\"O valor é Positivo\")"
   ]
  },
  {
   "cell_type": "markdown",
   "id": "6966546b",
   "metadata": {
    "id": "6966546b"
   },
   "source": [
    "#### 3. Faça um Programa que verifique o estado civil de uma pessoa. Se a letra digitada é \"C\" (Casado), \"S\" (Solteiro), \"D\" (Divorciado), \"V\" (Viúvo) ou \"O\" (outros). Conforme a letra escrita pelo usuário seu programa deve escrever o estado civil, exemplo:\n",
    "\n",
    "Usuário digita: C\n",
    "\n",
    "Seu programa deve responder:\n",
    "C - Casado"
   ]
  },
  {
   "cell_type": "code",
   "execution_count": 32,
   "id": "876a1e67",
   "metadata": {
    "id": "876a1e67"
   },
   "outputs": [
    {
     "name": "stdout",
     "output_type": "stream",
     "text": [
      "Qual seu estado civil? C - Casado; S - Solteiro; D - Divorciado; V - Viúvo; O - OutrosV\n",
      "Viúvo\n"
     ]
    }
   ],
   "source": [
    "ecivil = input(\"Qual seu estado civil? C - Casado; S - Solteiro; D - Divorciado; V - Viúvo; O - Outros\")\n",
    "\n",
    "if ecivil == \"C\":\n",
    "    print(\"Casado\")\n",
    "elif ecivil == \"S\":\n",
    "    print(\"Solteiro\")\n",
    "elif ecivil == \"D\":\n",
    "    print(\"Divorciado\")\n",
    "elif ecivil == \"V\":\n",
    "    print(\"Viúvo\")\n",
    "else:\n",
    "    print(\"Outros\")"
   ]
  },
  {
   "cell_type": "markdown",
   "id": "c122c0cf",
   "metadata": {
    "id": "c122c0cf"
   },
   "source": [
    "#### 4. Faça um Programa que verifique se o e-mail digitado faz parte dos e-mails de spam."
   ]
  },
  {
   "cell_type": "code",
   "execution_count": 36,
   "id": "59bed184",
   "metadata": {
    "id": "59bed184"
   },
   "outputs": [
    {
     "name": "stdout",
     "output_type": "stream",
     "text": [
      "Insira seu e-mail: ciclano@gmail.com\n",
      "Spam!\n"
     ]
    }
   ],
   "source": [
    "emails_spam = \"fulano@gmail.com,beltrano@gmail.com,ciclano@gmail.com\"\n",
    "\n",
    "email = input(\"Insira seu e-mail: \")\n",
    "if email in emails_spam:\n",
    "    print(\"Spam!\")"
   ]
  },
  {
   "cell_type": "markdown",
   "id": "487ee073",
   "metadata": {
    "id": "487ee073"
   },
   "source": [
    "#### 5. Faça um programa para a leitura de duas notas parciais de um aluno. O programa deve calcular a média alcançada por aluno e apresentar:\n",
    "\n",
    "##### A mensagem \"Aprovado\", se a média alcançada for maior ou igual a sete;\n",
    "##### A mensagem \"Reprovado\", se a média for menor do que sete;\n",
    "##### A mensagem \"Aprovado com Distinção\", se a média for igual a dez."
   ]
  },
  {
   "cell_type": "code",
   "execution_count": 21,
   "id": "7f5c7096",
   "metadata": {
    "id": "7f5c7096"
   },
   "outputs": [
    {
     "name": "stdout",
     "output_type": "stream",
     "text": [
      "Informe a primeira nota: 7\n",
      "Informe a primeira nota: 5\n",
      "Infelizmente sua média foi de 6.0, você está reprovado.\n"
     ]
    }
   ],
   "source": [
    "nota1 = float(input(\"Informe a primeira nota: \"))\n",
    "nota2 = float(input(\"Informe a primeira nota: \"))\n",
    "\n",
    "if nota1 > 10:\n",
    "    print(\"Sua nota não pode ser maior que 10!\")\n",
    "elif nota2 > 10:\n",
    "        print(\"Sua nota não pode ser maior que 10!\")\n",
    "else:\n",
    "    pass\n",
    "\n",
    "media = (nota1 + nota2)/2\n",
    "\n",
    "if media == 10:\n",
    "    print(f\"Uau! Sua média foi de {media}, aprovado com distinção!\")\n",
    "elif media >= 7:\n",
    "    print(f\"Parabéns! Sua média foi de {media}, aprovado!\")\n",
    "elif media <= 7:\n",
    "    print(f\"Infelizmente sua média foi de {media}, você está reprovado.\")\n",
    "else:\n",
    "    pass"
   ]
  },
  {
   "cell_type": "markdown",
   "id": "6dd3f171",
   "metadata": {
    "id": "6dd3f171"
   },
   "source": [
    "#### 6. Faça um Programa que leia o orçamento de 3 empresas e mostre o maior deles."
   ]
  },
  {
   "cell_type": "code",
   "execution_count": 29,
   "id": "51b591e5",
   "metadata": {
    "id": "51b591e5"
   },
   "outputs": [
    {
     "name": "stdout",
     "output_type": "stream",
     "text": [
      "Informe o orçamento 1 :700\n",
      "Informe o orçamento 2 :640\n",
      "Informe o orçamento 3 :800\n",
      "O maior orçamento é o 3º, com valor de 800.0\n"
     ]
    }
   ],
   "source": [
    "orc1 = (input(\"Informe o orçamento 1 :\"))\n",
    "orc2 = (input(\"Informe o orçamento 2 :\"))\n",
    "orc3 = (input(\"Informe o orçamento 3 :\"))\n",
    "\n",
    "if orc1 != '':\n",
    "    orc1 = float(orc1)\n",
    "else:\n",
    "    pass\n",
    "if orc2 != '':\n",
    "    orc2 = float(orc2)\n",
    "else:\n",
    "    pass\n",
    "if orc3 != '':\n",
    "    orc3 = float(orc3)\n",
    "else:\n",
    "    pass\n",
    "\n",
    "if orc1 and orc2 and orc3:\n",
    "    if orc1 > orc2:\n",
    "        if orc1 > orc3:\n",
    "            print(f\"O maior orçamento é o 1º, com valor de {orc1}\")\n",
    "        else:\n",
    "            print(f\"O maior orçamento é o 3º, com valor de {orc3}\")\n",
    "    else:\n",
    "        print(f\"O maior orçamento é o 2º, com valor de {orc2}\")\n",
    "else:\n",
    "    print(\"Preencha os 3 orçamentos corretamente!\")"
   ]
  },
  {
   "cell_type": "markdown",
   "id": "ce09ed1c",
   "metadata": {
    "id": "ce09ed1c"
   },
   "source": [
    "#### 7. Faça um Programa que leia três orçamentos e mostre o maior e o menor deles."
   ]
  },
  {
   "cell_type": "code",
   "execution_count": 30,
   "id": "249f1eb8",
   "metadata": {
    "id": "249f1eb8"
   },
   "outputs": [
    {
     "name": "stdout",
     "output_type": "stream",
     "text": [
      "Informe o primeiro orçamento: 10\n",
      "Informe o primeiro orçamento: 8\n",
      "Informe o primeiro orçamento: 7\n",
      "O maior orçamento é o 2º, com valor 8 e o menor é o 1º com valor 10.\n"
     ]
    }
   ],
   "source": [
    "orc1 = input(\"Informe o primeiro orçamento: \")\n",
    "orc2 = input(\"Informe o primeiro orçamento: \")\n",
    "orc3 = input(\"Informe o primeiro orçamento: \")\n",
    "\n",
    "if orc1 and orc2 and orc3:\n",
    "    if orc1 > orc2 and orc1 > orc3:\n",
    "        if orc2 > orc3:\n",
    "            print(f\"O maior orçamento é o 1º, com valor {orc1} e o menor é o 3º com valor {orc3}.\")\n",
    "        else:\n",
    "            print(f\"O maior orçamento é o 1º, com valor {orc1} e o menor é o 2º com valor {orc2}.\")\n",
    "    elif orc2 > orc1 and orc2 > orc3:\n",
    "        if orc1 > orc3:\n",
    "            print(f\"O maior orçamento é o 2º, com valor {orc2} e o menor é o 3º com valor {orc3}.\")\n",
    "        else:\n",
    "            print(f\"O maior orçamento é o 2º, com valor {orc2} e o menor é o 1º com valor {orc1}.\")\n",
    "    elif orc3 > orc2 and orc3 > orc1:\n",
    "        if orc2 > orc1:\n",
    "            print(f\"O maior orçamento é o 3º, com valor {orc3} e o menor é o 1º com valor {orc1}.\")\n",
    "        else:\n",
    "            print(f\"O maior orçamento é o 3º, com valor {orc3} e o menor é o 2º com valor {orc2}.\")\n",
    "else:\n",
    "    print(\"Preencha os valores corretamente!\")"
   ]
  },
  {
   "cell_type": "markdown",
   "id": "7453d43a",
   "metadata": {
    "id": "7453d43a"
   },
   "source": [
    "#### 8. Faça um programa que pergunte o preço de três produtos e informe qual produto você deve comprar, sabendo que a decisão é sempre pelo mais barato."
   ]
  },
  {
   "cell_type": "code",
   "execution_count": 35,
   "id": "26a9503e",
   "metadata": {
    "id": "26a9503e"
   },
   "outputs": [
    {
     "name": "stdout",
     "output_type": "stream",
     "text": [
      "Preencha o valor do primeiro produto: 1\n",
      "Preencha o valor do segundo produto: 2\n",
      "Preencha o valor do terceiro produto: \n",
      "Preencha os valores corretamente!\n"
     ]
    }
   ],
   "source": [
    "produto1 = input(\"Preencha o valor do primeiro produto: \")\n",
    "if produto1 != '':\n",
    "    produto1 = float(produto1)\n",
    "else:\n",
    "    pass\n",
    "produto2 = input(\"Preencha o valor do segundo produto: \")\n",
    "if produto2 != '':\n",
    "    produto2 = float(produto2)\n",
    "else:\n",
    "    pass\n",
    "produto3 = input(\"Preencha o valor do terceiro produto: \")\n",
    "if produto3 != '':\n",
    "    produto3 = float(produto3)\n",
    "else:\n",
    "    pass\n",
    "\n",
    "if produto1 and produto2 and produto3:\n",
    "    if produto1 < produto2 and produto1 < produto3:\n",
    "        print(f\"O produto 1 é recomendado com valor {produto1}.\")\n",
    "    elif produto2 < produto1 and produto2 < produto3:\n",
    "        print(f\"O produto 2 é recomendado com valor {produto2}.\")\n",
    "    else:\n",
    "        print(f\"O produto 3 é recomendado com valor {produto3}.\")\n",
    "else:\n",
    "    print(\"Preencha os valores corretamente!\")"
   ]
  },
  {
   "cell_type": "markdown",
   "id": "9ade258f",
   "metadata": {
    "id": "9ade258f"
   },
   "source": [
    "#### 9. Faça um Programa que leia três números e mostre-os em ordem decrescente."
   ]
  },
  {
   "cell_type": "code",
   "execution_count": 56,
   "id": "f194c39e",
   "metadata": {
    "id": "f194c39e"
   },
   "outputs": [
    {
     "name": "stdout",
     "output_type": "stream",
     "text": [
      "Preencha o primeiro número: 1\n",
      "Preencha o segundo número: 2\n",
      "Preencha o terceiro número: 3\n",
      "3\n",
      "2\n",
      "1\n",
      "\n",
      "3\n",
      "2\n",
      "1\n"
     ]
    }
   ],
   "source": [
    "#primeira forma (por conta própria)\n",
    "num1 = input(\"Preencha o primeiro número: \")\n",
    "if num1 != '':\n",
    "    num1 = int(num1)\n",
    "else:\n",
    "    pass\n",
    "num2 = input(\"Preencha o segundo número: \")\n",
    "if num2 != '':\n",
    "    num2 = int(num2)\n",
    "else:\n",
    "    pass\n",
    "num3 = input(\"Preencha o terceiro número: \")\n",
    "if num3 != '':\n",
    "    num3 = int(num3)\n",
    "else:\n",
    "    pass\n",
    "\n",
    "if num1 and num2 and num3:\n",
    "        if num1 > num2:\n",
    "            if num1 > num3:\n",
    "                if num2 > num3:\n",
    "                    print(num1)\n",
    "                    print(num2)\n",
    "                    print(num3)\n",
    "                else:\n",
    "                    print(num1)\n",
    "                    print(num3)\n",
    "                    print(num2)\n",
    "            else:\n",
    "                print(num3)\n",
    "                print(num1)\n",
    "                print(num2)\n",
    "        elif num2 > num1:\n",
    "            if num1 > num3:\n",
    "                print(num2)\n",
    "                print(num1)\n",
    "                print(num3)\n",
    "            elif num3 > num2:\n",
    "                print(num3)\n",
    "                print(num2)\n",
    "                print(num1)\n",
    "            else: \n",
    "                print(num2)\n",
    "                print(num3)\n",
    "                print(num1)\n",
    "        elif num2 > num1:\n",
    "            print(num3)\n",
    "            print(num2)\n",
    "            print(num1)\n",
    "        else:\n",
    "            print(num3)\n",
    "            print(num1)\n",
    "            print(num2)    \n",
    "else:\n",
    "    print(\"Preencha os valores corretamente!\")\n",
    "    \n",
    "#segunda forma (de acordo com o gabarito)\n",
    "print('')\n",
    "\n",
    "if num1 > num2 and num1 > num3:\n",
    "    print(num1)\n",
    "    if num2 > num3:\n",
    "        print(num2)\n",
    "        print(num3)\n",
    "    else:\n",
    "        print(num3)\n",
    "        print(num2)\n",
    "elif num2 > num1 and num2 > num3:\n",
    "    print(num2)\n",
    "    if num1 > num3:\n",
    "        print(num1)\n",
    "        print(num3)\n",
    "    else:\n",
    "        print(num3)\n",
    "        print(num1)\n",
    "elif num3 > num1 and num3 > num2:\n",
    "    print(num3)\n",
    "    if num1 > num2:\n",
    "        print(num1)\n",
    "        print(num2)\n",
    "    else:\n",
    "        print(num2)\n",
    "        print(num1)"
   ]
  },
  {
   "cell_type": "markdown",
   "id": "d06e2fe8",
   "metadata": {
    "id": "d06e2fe8"
   },
   "source": [
    "#### 10. Faça um Programa que pergunte em que turno você estuda. Peça para digitar M-matutino ou V-Vespertino ou N- Noturno. Imprima a mensagem \"Bom Dia!\", \"Boa Tarde!\" ou \"Boa Noite!\" ou \"Valor Inválido!\", conforme o caso."
   ]
  },
  {
   "cell_type": "code",
   "execution_count": 65,
   "id": "1eb36141",
   "metadata": {
    "id": "1eb36141",
    "scrolled": true
   },
   "outputs": [
    {
     "name": "stdout",
     "output_type": "stream",
     "text": [
      "Informe o período de estudo conforme: M - Matutino; V - Vespertino ou N - Noturno. V\n",
      "Boa tarde!\n"
     ]
    }
   ],
   "source": [
    "periodo = input(\"Informe o período de estudo conforme: M - Matutino; V - Vespertino ou N - Noturno. \")\n",
    "\n",
    "if periodo == \"M\" or periodo == \"V\" or periodo == \"N\":\n",
    "    if periodo == \"M\":\n",
    "        print(\"Bom dia!\")\n",
    "    elif periodo == \"V\":\n",
    "        print(\"Boa tarde!\")\n",
    "    else:\n",
    "        print(\"Boa noite!\")\n",
    "else:\n",
    "    print(\"Valor inválido!\")"
   ]
  },
  {
   "cell_type": "markdown",
   "id": "4864b755",
   "metadata": {
    "id": "4864b755"
   },
   "source": [
    "#### 11. As Organizações Tabajara resolveram dar um aumento de salário aos seus colaboradores e lhe contraram para desenvolver o programa que calculará os reajustes. Faça um programa que recebe o salário de um colaborador e o reajuste segundo o seguinte critério, baseado no salário atual:\n",
    "\n",
    "##### salários até R\\\\$ 280,00 (incluindo) : aumento de 20% \n",
    "\n",
    "##### salários entre R\\\\$ 280,00 e R\\\\$ 700,00 : aumento de 15% \n",
    "\n",
    "##### salários entre R\\\\$ 700,00 e R\\\\$ 1500,00 : aumento de 10% \n",
    "\n",
    "##### salários de R\\\\$ 1500,00 em diante : aumento de 5% Após o aumento ser realizado, informe na tela: \n",
    "\n",
    "###### o salário antes do reajuste;\n",
    "\n",
    "###### o percentual de aumento aplicado;\n",
    "\n",
    "###### o valor do aumento;\n",
    "\n",
    "###### o novo salário, após o aumento.\n",
    "\n",
    "###### Obs: Não vamos nos preocupar tanto com a formatação dos números (nº de casas decimais, por exemplo, veremos isso no próximo módulo)"
   ]
  },
  {
   "cell_type": "code",
   "execution_count": 5,
   "id": "f0d34916",
   "metadata": {
    "id": "f0d34916"
   },
   "outputs": [
    {
     "name": "stdout",
     "output_type": "stream",
     "text": [
      "Gentileza informar o salário: 800\n",
      "O salário informado é de: 800.0.\n",
      "O aumento percentual será de: 0.05%\n",
      "O que equivale ao valor de: 40.0\n",
      "O novo salário é de: 840.0\n"
     ]
    }
   ],
   "source": [
    "A1 = 0.2\n",
    "A2 = 0.15\n",
    "A3 = 0.10\n",
    "A4 = 0.05\n",
    "\n",
    "sal = input(\"Gentileza informar o salário: \")\n",
    "\n",
    "if sal != '':\n",
    "    sal = float(sal)\n",
    "else:\n",
    "    print(\"Ops! Esqueceu de preencher.\")\n",
    "\n",
    "if sal <= 280:\n",
    "    print(f\"O salário informado é de: {sal}.\")\n",
    "    print(f\"O aumento percentual será de: {A1}%\")\n",
    "    print(f\"O que equivale ao valor de: {sal * A1}\")\n",
    "    print(f\"O novo salário é de: {sal * (1 + A1)}\")\n",
    "elif sal <= 700:\n",
    "    print(f\"O salário informado é de: {sal}.\")\n",
    "    print(f\"O aumento percentual será de: {A2}%\")\n",
    "    print(f\"O que equivale ao valor de: {sal * A2}\")\n",
    "    print(f\"O novo salário é de: {sal * (1 + A2)}\")\n",
    "elif sal <= 1.500:\n",
    "    print(f\"O salário informado é de: {sal}.\")\n",
    "    print(f\"O aumento percentual será de: {A3}%\")\n",
    "    print(f\"O que equivale ao valor de: {sal * A3}\")\n",
    "    print(f\"O novo salário é de: {sal * (1 + A3)}\")\n",
    "else:\n",
    "    print(f\"O salário informado é de: {sal}.\")\n",
    "    print(f\"O aumento percentual será de: {A4}%\")\n",
    "    print(f\"O que equivale ao valor de: {sal * A4}\")\n",
    "    print(f\"O novo salário é de: {sal * (1 + A4)}\")"
   ]
  },
  {
   "cell_type": "markdown",
   "id": "b037f1e8",
   "metadata": {
    "id": "b037f1e8"
   },
   "source": [
    "#### 12 . Faça um programa para o cálculo de uma folha de pagamento, sabendo que os descontos são do Imposto de Renda, que depende do salário bruto (conforme tabela abaixo) e 3% para o Sindicato e que o FGTS corresponde a 11% do Salário Bruto, mas não é descontado (é a empresa que deposita). O Salário Líquido corresponde ao Salário Bruto menos os descontos. O programa deverá pedir ao usuário o valor da sua hora e a quantidade de horas trabalhadas no mês.\n",
    "\n",
    "Desconto do IR:<br>\n",
    "Salário Bruto até 900 (inclusive) - isento<br>\n",
    "Salário Bruto até 1500 (inclusive) - desconto de 5%<br>\n",
    "Salário Bruto até 2500 (inclusive) - desconto de 10%<br>\n",
    "Salário Bruto acima de 2500 - desconto de 20%<br>\n",
    "Imprima na tela as informações, dispostas conforme o exemplo abaixo. No exemplo o valor da hora é 5 e a quantidade de hora é 220.\n",
    "\n",
    "Salário Bruto: (5 * 220)        : R\\\\$ 1100,00<br>\n",
    "(-) IR (5%)                     : R\\\\$   55,00<br>\n",
    "(-) INSS ( 10%)                 : R\\\\$  110,00<br>\n",
    "FGTS (11%)                      : R\\\\$  121,00<br>\n",
    "Total de descontos              : R\\\\$  165,00<br>\n",
    "Salário Liquido                 : R\\\\$  935,00<br>\n",
    "\n",
    "###### Obs: Não vamos nos preocupar tanto com a formatação dos números (nº de casas decimais, por exemplo, veremos isso no próximo módulo)"
   ]
  },
  {
   "cell_type": "code",
   "execution_count": 7,
   "id": "dad18bb2",
   "metadata": {
    "id": "dad18bb2"
   },
   "outputs": [
    {
     "name": "stdout",
     "output_type": "stream",
     "text": [
      "Informe o valor recebido por hora: 5\n",
      "Informe a quantidade de horas trabalhadas no mês: 220\n",
      "Salário Bruto: (5.0 * 220.0): 1100.0\n",
      "(-) IR (5%): 55.0\n",
      "(-) INSS (10%): 110.0\n",
      "FGTS (11%): 121.0\n",
      "Total de descontos: 165.0\n",
      "Salário líquido: 935.0\n"
     ]
    }
   ],
   "source": [
    "vlrh = input(\"Informe o valor recebido por hora: \")\n",
    "qtdh = input(\"Informe a quantidade de horas trabalhadas no mês: \")\n",
    "\n",
    "if vlrh and qtdh:\n",
    "    vlrh = float(vlrh)\n",
    "    qtdh = float(qtdh)\n",
    "else:\n",
    "    print(\"Preencha corretamente as informações!\")\n",
    "    \n",
    "salb = vlrh * qtdh\n",
    "print(f\"Salário Bruto: ({vlrh} * {qtdh}): {salb}\")\n",
    "\n",
    "ir = salb * 0.05\n",
    "print(f\"(-) IR (5%): {ir}\")\n",
    "\n",
    "inss = salb * 0.10\n",
    "print(f\"(-) INSS (10%): {inss}\")\n",
    "\n",
    "fgts = salb * 0.11\n",
    "print(f\"FGTS (11%): {fgts}\")\n",
    "\n",
    "totaldesc = ir + inss\n",
    "print(f\"Total de descontos: {totaldesc}\")\n",
    "\n",
    "sall = salb - totaldesc\n",
    "print(f\"Salário líquido: {sall}\")"
   ]
  },
  {
   "cell_type": "markdown",
   "id": "814fc211",
   "metadata": {
    "id": "814fc211"
   },
   "source": [
    "#### 13. Faça um Programa que leia um número e exiba o dia correspondente da semana. (1-Domingo, 2- Segunda, etc.), se digitar outro valor deve aparecer valor inválido."
   ]
  },
  {
   "cell_type": "code",
   "execution_count": 25,
   "id": "f2c2b8d8",
   "metadata": {
    "id": "f2c2b8d8"
   },
   "outputs": [
    {
     "name": "stdout",
     "output_type": "stream",
     "text": [
      "Legenda: 1 - Domingo; 2 - Segunda; 3 - Terça; 4 - Quarta; 5 - Quinta; 6 - Sexta; 7 - Sábado\n",
      "Informe o dia da semana: 1\n",
      "Domingo\n"
     ]
    }
   ],
   "source": [
    "print(\"Legenda: 1 - Domingo; 2 - Segunda; 3 - Terça; 4 - Quarta; 5 - Quinta; 6 - Sexta; 7 - Sábado\")\n",
    "dia = input(\"Informe o dia da semana: \")\n",
    "semana = 1,2,3,4,5,6,7\n",
    "\n",
    "if dia:\n",
    "    dia = float(dia)\n",
    "else:\n",
    "    print(\"Preencha corretamente o dia!\")\n",
    "    \n",
    "if dia in semana:\n",
    "    if dia == 1:\n",
    "        print(\"Domingo\")\n",
    "    elif dia == 2:\n",
    "        print(\"Segunda-Feira\")\n",
    "    elif dia == 3:\n",
    "        print(\"Terça-Feira\")\n",
    "    elif dia == 4:\n",
    "        print(\"Quarta-Feira\")\n",
    "    elif dia == 5:\n",
    "        print(\"Quinta-Feira\")\n",
    "    elif dia == 6:\n",
    "        print(\"Sexta-Feira\")\n",
    "    elif dia == 7:\n",
    "        print(\"Sábado\")\n",
    "else:\n",
    "    print(\"Este não é um valor válido.\")"
   ]
  },
  {
   "cell_type": "markdown",
   "id": "6e5f461e",
   "metadata": {
    "id": "6e5f461e"
   },
   "source": [
    "#### 14. Faça um programa que lê as duas notas parciais obtidas por um aluno numa disciplina ao longo de um semestre, e calcule a sua média. Em seguida, mostre qual conceito o aluno teve. A atribuição de conceitos obedece à tabela abaixo:\n",
    "<pre>\n",
    "Média de Aproveitamento  Conceito\n",
    "Entre 9.0 e 10.0        A\n",
    "Entre 7.5 e 9.0         B\n",
    "Entre 6.0 e 7.5         C\n",
    "Entre 4.0 e 6.0         D\n",
    "Entre 4.0 e zero        E\n",
    "</pre>"
   ]
  },
  {
   "cell_type": "code",
   "execution_count": null,
   "id": "d4fe1020",
   "metadata": {},
   "outputs": [],
   "source": []
  },
  {
   "cell_type": "code",
   "execution_count": 45,
   "id": "29721a43",
   "metadata": {
    "id": "29721a43"
   },
   "outputs": [
    {
     "name": "stdout",
     "output_type": "stream",
     "text": [
      "Informe a primeira nota: 11\n",
      "Informe a segunda nota: 5\n",
      "Sua nota não pode ser maior que 10.\n",
      "8.0\n",
      "Conceito B\n"
     ]
    }
   ],
   "source": [
    "n1 = input(\"Informe a primeira nota: \")\n",
    "n2 = input(\"Informe a segunda nota: \")\n",
    "\n",
    "if n1 and n2:\n",
    "    n1 = float(n1)\n",
    "    n2 = float(n2)\n",
    "else:\n",
    "    print(\"Preencha as notas corretamente!\")\n",
    "\n",
    "if n1 > 10 or n2 > 10:\n",
    "    print(\"Sua nota não pode ser maior que 10.\")\n",
    "else:\n",
    "    pass\n",
    "\n",
    "media = (n1 + n2)/2\n",
    "print(media)\n",
    "\n",
    "if media < 4:\n",
    "    print(\"Conceito E\")\n",
    "elif media < 6:\n",
    "    print(\"Conceito D\")\n",
    "elif media < 7.5:\n",
    "    print(\"Conceito C\")\n",
    "elif media < 9.0:\n",
    "    print(\"Conceito B\")\n",
    "else:\n",
    "    print(\"Conceito A\")"
   ]
  },
  {
   "cell_type": "markdown",
   "id": "e6b3bcaf",
   "metadata": {
    "id": "e6b3bcaf"
   },
   "source": [
    "#### 15. Você está construindo um calendário para controlar dias de trabalho a pedido do RH. Nessa construção, você vai precisar definir quais anos são bissextos e quais não são, para montar o calendário de forma correta. Faça um Programa que peça um número correspondente a um determinado ano e em seguida informe se este ano é ou não bissexto.\n",
    "<pre>\n",
    "Dica para determinar se um ano é bissexto: \n",
    "- São bissextos todos os anos múltiplos de 400, p.ex.: 1600, 2000, 2400, 2800...\n",
    "- São bissextos todos os múltiplos de 4, exceto se for múltiplo de 100 mas não de 400, \n",
    "p.ex.: 1996, 2000, 2004, 2008, 2012, 2016, 2020, 2024, 2028...\n",
    "- Não são bissextos todos os demais anos.<br>\n",
    "ex1: 2004 é múltiplo de 4, mas não é múltiplo de 100, então é bissexto.\n",
    "ex2: 2000 é múltiplo de 4, mas é múltiplo de 100, só que também é multiplo de 400, então é bissexto (porque todo ano múltiplo de 400 é bissexto, independente do resto).\n",
    "ex3: 1900 é múltiplo de 4, é múltiplo de 100, mas não é múltiplo de 400, então não é bissexto\n",
    "\n",
    "</pre>\n",
    "\n",
    "Dica: lembre que: numero % 4 é o resto da divisão do número por 4, ex: 10 % 3 = 1 (já que 10/3 = 3 e resta 1)"
   ]
  },
  {
   "cell_type": "code",
   "execution_count": 16,
   "id": "56af223f",
   "metadata": {
    "id": "56af223f"
   },
   "outputs": [
    {
     "name": "stdout",
     "output_type": "stream",
     "text": [
      "Informe o ano: 1900\n",
      "Não é bissexto.\n"
     ]
    }
   ],
   "source": [
    "ano = input(\"Informe o ano: \")\n",
    "\n",
    "if ano:\n",
    "    ano = int(ano)\n",
    "else:\n",
    "    print(\"Preencha o ano corretamente!\")\n",
    "    \n",
    "if (ano % 4 == 0 and ano % 100 != 0) or ano % 400 == 0:\n",
    "    print(\"Bissexto.\")\n",
    "else:\n",
    "    print(\"Não é bissexto.\")"
   ]
  },
  {
   "cell_type": "markdown",
   "id": "9fe532c8",
   "metadata": {
    "id": "9fe532c8"
   },
   "source": [
    "#### 16. Faça um Programa para leitura de três notas parciais de um aluno. O programa deve calcular a média alcançada por aluno e presentar:\n",
    "<pre>\n",
    "A mensagem \"Aprovado\", se a média for maior ou igual a 7, com a respectiva média alcançada;\n",
    "A mensagem \"Reprovado\", se a média for menor do que 7, com a respectiva média alcançada;\n",
    "A mensagem \"Aprovado com Distinção\", se a média for igual a 10.\n",
    "</pre>"
   ]
  },
  {
   "cell_type": "code",
   "execution_count": 7,
   "id": "1a56e99f",
   "metadata": {
    "id": "1a56e99f"
   },
   "outputs": [
    {
     "name": "stdout",
     "output_type": "stream",
     "text": [
      "Informe a primeira nota: 10\n",
      "Informe a segunda nota: 10\n",
      "Informe a terceira nota: 10\n",
      "Aprovado com distinção, sua média foi 10.0\n"
     ]
    }
   ],
   "source": [
    "nota1 = input(\"Informe a primeira nota: \")\n",
    "nota2 = input(\"Informe a segunda nota: \")\n",
    "nota3 = input(\"Informe a terceira nota: \")\n",
    "\n",
    "if nota1 and nota2 and nota3:\n",
    "    nota1 = float(nota1)\n",
    "    nota2 = float(nota2)\n",
    "    nota3 = float(nota3)\n",
    "else:\n",
    "    print(\"Preencha todas as notas!\")\n",
    "    \n",
    "if nota1 > 10 or nota2 > 10 or nota3 > 10:\n",
    "    print(\"Sua nota não pode ser maior que 10!\")\n",
    "else:\n",
    "    pass\n",
    "\n",
    "media = (nota1 + nota2 + nota3)/3\n",
    "\n",
    "if media == 10:\n",
    "    print(f\"Aprovado com distinção, sua média foi {media}\")\n",
    "elif media < 7:\n",
    "    print(f\"Reprovado com média {media}\")\n",
    "else:\n",
    "    print(f\"Aprovado com média {media}\")"
   ]
  },
  {
   "cell_type": "markdown",
   "id": "d544412e",
   "metadata": {
    "id": "d544412e"
   },
   "source": [
    "\n",
    "#### 17. João Papo-de-Pescador, homem de bem, comprou um microcomputador para controlar o rendimento diário de seu trabalho. Toda vez que ele traz um peso de peixes maior que o estabelecido pelo regulamento de pesca do estado de São Paulo (50 quilos) deve pagar uma multa de R$ 4,00 por quilo excedente. João precisa que você faça um programa que leia a variável peso (peso de peixes) e calcule o excesso. Gravar na variável excesso a quantidade de quilos além do limite e na variável multa o valor da multa que João deverá pagar. Imprima os dados do programa com as mensagens adequadas."
   ]
  },
  {
   "cell_type": "code",
   "execution_count": 25,
   "id": "971ed027",
   "metadata": {
    "id": "971ed027"
   },
   "outputs": [
    {
     "name": "stdout",
     "output_type": "stream",
     "text": [
      "Informe a quantidade (kg) de peixe pescado: 57\n",
      "O excesso foi de 7.0KG.\n",
      "A multa será de 28.0 Reais.\n"
     ]
    }
   ],
   "source": [
    "kg = input(\"Informe a quantidade (kg) de peixe pescado: \")\n",
    "\n",
    "if kg:\n",
    "    kg = float(kg)\n",
    "else:\n",
    "    print(\"Informação não pode estar vazia.\")\n",
    "\n",
    "excesso = kg - 50\n",
    "multa = excesso * 4\n",
    "\n",
    "if excesso > 0:\n",
    "    print(f\"O excesso foi de {excesso}KG.\")\n",
    "    print(f\"A multa será de {multa} Reais.\")\n",
    "else:\n",
    "    print(\"Quantidade dentro do padrão permitido.\")\n",
    "    print(\"Não houve multa.\")"
   ]
  },
  {
   "cell_type": "markdown",
   "id": "0e5256e0",
   "metadata": {
    "id": "0e5256e0"
   },
   "source": [
    "#### 18. Faça um Programa para um caixa eletrônico. O programa deverá perguntar ao usuário a valor do saque e depois informar quantas notas de cada valor serão fornecidas. As notas disponíveis serão as de 1, 5, 10, 50 e 100 reais. O valor mínimo é de 10 reais e o máximo de 600 reais. O programa não deve se preocupar com a quantidade de notas existentes na máquina.\n",
    "<pre>\n",
    "Exemplo 1: Para sacar a quantia de 256 reais, o programa fornece duas notas de 100, uma nota de 50, uma nota de 5 e uma nota de 1;\n",
    "Exemplo 2: Para sacar a quantia de 399 reais, o programa fornece três notas de 100, uma nota de 50, quatro notas de 10, uma nota de 5 e quatro notas de 1.\n",
    "</pre>\n",
    "\n",
    "Dica1: numero // 10 vai te dar como resposta a parte inteira da divisão do número por 10.<br>\n",
    "Dica2: numero % 10 vai te dar o resto da divisão do número por 10."
   ]
  },
  {
   "cell_type": "code",
   "execution_count": 23,
   "id": "9b4244c7",
   "metadata": {
    "id": "9b4244c7"
   },
   "outputs": [
    {
     "name": "stdout",
     "output_type": "stream",
     "text": [
      "Informe o valor a ser sacado:543\n",
      "São necessárias:\n",
      "5 notas de 100\n",
      "4 notas de 10\n",
      "3 notas de 1\n"
     ]
    }
   ],
   "source": [
    "valor = int(input(\"Informe o valor a ser sacado:\"))\n",
    "\n",
    "n100 = 0\n",
    "n50 = 0\n",
    "n10 = 0\n",
    "n5 = 0\n",
    "n1 = 0\n",
    "\n",
    "if 10 <= valor <= 600:\n",
    "    print(\"São necessárias:\")\n",
    "    if valor >= 100:\n",
    "        n100 = valor // 100\n",
    "        print(n100, \"notas de 100\")\n",
    "    if valor % 100 >= 50:\n",
    "        n50 = (valor - 100*n100) // 50\n",
    "        print(n50, \"notas de 50\")\n",
    "    if valor % 50 >= 10:\n",
    "        n10 = (valor - 100*n100 - 50*n50) // 10\n",
    "        print(n10, \"notas de 10\")\n",
    "    if valor % 10 >= 5:\n",
    "        n5 = (valor - 100*n100 - 50*n50 - 10*n10) // 5\n",
    "        print(n5, \"notas de 5\")\n",
    "    if valor % 5 >= 1:\n",
    "        n1 = valor - 100*n100 - 50*n50 - 10*n10 - 5*n5\n",
    "        print(n1, \"notas de 1\")\n",
    "else:\n",
    "    print(\"Informe um valor entre R$10,00 e R$600,00\")"
   ]
  },
  {
   "cell_type": "markdown",
   "id": "cba47494",
   "metadata": {
    "id": "cba47494"
   },
   "source": [
    "#### 19. Faça um programa que faça 5 perguntas para uma pessoa sobre um crime. As perguntas são:\n",
    "<pre>\n",
    "\"Telefonou para a vítima?\"\n",
    "\"Esteve no local do crime?\"\n",
    "\"Mora perto da vítima?\"\n",
    "\"Devia para a vítima?\"\n",
    "\"Já trabalhou com a vítima?\" \n",
    "O programa deve no final emitir uma classificação sobre a participação da pessoa no crime. Se a pessoa responder positivamente a 2 questões ela deve ser classificada como \"Suspeita\", entre 3 e 4 como \"Cúmplice\" e 5 como \"Assassino\". Caso contrário, ele será classificado como \"Inocente\".\n",
    "</pre>"
   ]
  },
  {
   "cell_type": "code",
   "execution_count": 9,
   "id": "5fdf9b88",
   "metadata": {
    "id": "5fdf9b88"
   },
   "outputs": [
    {
     "name": "stdout",
     "output_type": "stream",
     "text": [
      "Digite 1 para sim e 0 para não:\n",
      "Telefonou para a vítima?1\n",
      "Esteve no local do crime?2\n",
      "Mora perto da vítima?1\n",
      "Devia para a vítima?1\n",
      "Já trabalhou com a vítima?1\n",
      "Reveja o preenchimento das informações!\n",
      "Cúmplice.\n"
     ]
    }
   ],
   "source": [
    "print(\"Digite 1 para sim e 0 para não:\")\n",
    "\n",
    "q1 = int((input(\"Telefonou para a vítima?\")))\n",
    "q2 = int((input(\"Esteve no local do crime?\")))\n",
    "q3 = int((input(\"Mora perto da vítima?\")))\n",
    "q4 = int((input(\"Devia para a vítima?\")))\n",
    "q5 = int((input(\"Já trabalhou com a vítima?\")))\n",
    "    \n",
    "decisao = q1 + q2 + q3 + q4 + q5\n",
    "\n",
    "if decisao > 5:\n",
    "    print(\"Reveja o preenchimento das informações!\")\n",
    "\n",
    "if decisao == 5:\n",
    "    print(\"Assassino.\")\n",
    "elif decisao > 2:\n",
    "    print(\"Cúmplice.\")\n",
    "elif decisao > 0:\n",
    "    print(\"Suspeito.\")\n",
    "else:\n",
    "    print(\"Inocente.\")"
   ]
  },
  {
   "cell_type": "markdown",
   "id": "18901e98",
   "metadata": {
    "id": "18901e98"
   },
   "source": [
    "#### 20. Um posto está vendendo combustíveis com a seguinte tabela de descontos:\n",
    "<pre>\n",
    "Álcool:\n",
    "até 20 litros, desconto de 3% por litro\n",
    "acima de 20 litros, desconto de 5% por litro\n",
    "Gasolina:\n",
    "até 20 litros, desconto de 4% por litro\n",
    "acima de 20 litros, desconto de 6% por litro\n",
    "\n",
    "Escreva um algoritmo que leia o número de litros vendidos, o tipo de combustível (codificado da seguinte forma: A-álcool, G-gasolina), calcule e imprima o valor a ser pago pelo cliente sabendo-se que o preço do litro da gasolina é R$ 2,50 o preço do litro do álcool é R$ 1,90.\n",
    "</pre>"
   ]
  },
  {
   "cell_type": "code",
   "execution_count": 16,
   "id": "a1fd8c38",
   "metadata": {
    "id": "a1fd8c38"
   },
   "outputs": [
    {
     "name": "stdout",
     "output_type": "stream",
     "text": [
      "Qual tipo de combustível irá utilizar? (A- Alcool; G - Gasolina)g\n",
      "Informe a quantidade: 14\n",
      "O valor será de 33.6.\n"
     ]
    }
   ],
   "source": [
    "combustivel = input(\"Qual tipo de combustível irá utilizar? (A- Alcool; G - Gasolina)\")\n",
    "quantidade = int(input(\"Informe a quantidade: \"))\n",
    "\n",
    "if combustivel == \"A\" or combustivel == \"a\":\n",
    "    if quantidade > 20:\n",
    "        valor = (quantidade * 1.90) * 0.95\n",
    "    else:\n",
    "        valor = (quantidade * 1.90) * 0.97\n",
    "elif combustivel == \"G\" or combustivel == \"g\":\n",
    "    if quantidade > 20:\n",
    "        valor = (quantidade * 2.50) * 0.94\n",
    "    else:\n",
    "        valor = (quantidade * 2.50) * 0.96\n",
    "else:\n",
    "    print(\"Informe os dados corretamente.\")\n",
    "    \n",
    "print(f\"O valor será de {valor}.\")"
   ]
  },
  {
   "cell_type": "markdown",
   "id": "be0f8f32",
   "metadata": {
    "id": "be0f8f32"
   },
   "source": [
    "#### 21. Uma fruteira está vendendo frutas com a seguinte tabela de preços:\n",
    "<pre>\n",
    "                      Até 5 Kg           Acima de 5 Kg\n",
    "Morango         R$ 2,50 por Kg          R$ 2,20 por Kg\n",
    "Maçã            R$ 1,80 por Kg          R$ 1,50 por Kg\n",
    "Se o cliente comprar mais de 8 Kg em frutas ou o valor total da compra ultrapassar R$ 25,00, receberá ainda um desconto de 10% sobre este total. Escreva um algoritmo para ler a quantidade (em Kg) de morangos e a quantidade (em Kg) de maças adquiridas e escreva o valor a ser pago pelo cliente.\n",
    "</pre>"
   ]
  },
  {
   "cell_type": "code",
   "execution_count": 25,
   "id": "35c47c8e",
   "metadata": {
    "id": "35c47c8e"
   },
   "outputs": [
    {
     "name": "stdout",
     "output_type": "stream",
     "text": [
      "Informe a quantidade de morangos: 5\n",
      "Informe a quantidade de maçãs: 7\n",
      "O valor total foi de: 20.7\n"
     ]
    }
   ],
   "source": [
    "qtdmorango = float(input(\"Informe a quantidade de morangos: \"))\n",
    "qtdmaca = float(input(\"Informe a quantidade de maçãs: \"))\n",
    "\n",
    "if qtdmorango > 5:\n",
    "    vlrmorango = qtdmorango * 2.20\n",
    "else:\n",
    "    vlrmorango = qtdmorango * 2.50\n",
    "\n",
    "if qtdmaca > 5:\n",
    "    vlrmaca = qtdmaca * 1.50\n",
    "else:\n",
    "    vlrmaca = qtdmaca * 1.80\n",
    "\n",
    "if qtdmorango + qtdmaca > 8 or vlrmorango + vlrmaca > 25:\n",
    "    vlrtotal = (vlrmaca + vlrmorango) * 0.90\n",
    "else:\n",
    "    vlrtotal = vlrmaca + vlrmorango\n",
    "\n",
    "print(f\"O valor total foi de: {vlrtotal}\")"
   ]
  },
  {
   "cell_type": "markdown",
   "id": "4dbd53ed",
   "metadata": {
    "id": "4dbd53ed"
   },
   "source": [
    "#### 22. O Hipermercado Tabajara está com uma promoção de carnes que é imperdível. Confira:\n",
    "<pre>\n",
    "                      Até 5 Kg           Acima de 5 Kg\n",
    "File Duplo      R$ 4,90 por Kg          R$ 5,80 por Kg\n",
    "Alcatra         R$ 5,90 por Kg          R$ 6,80 por Kg\n",
    "Picanha         R$ 6,90 por Kg          R$ 7,80 por Kg\n",
    "Para atender a todos os clientes, cada cliente poderá levar apenas um dos tipos de carne da promoção, porém não há limites para a quantidade de carne por cliente. Se compra for feita no cartão Tabajara o cliente receberá ainda um desconto de 5% sobre o total da compra. Escreva um programa que peça o tipo e a quantidade de carne comprada pelo usuário e gere um cupom fiscal, contendo as informações da compra: tipo e quantidade de carne, preço total, tipo de pagamento, valor do desconto e valor a pagar.\n",
    "</pre>"
   ]
  },
  {
   "cell_type": "code",
   "execution_count": 33,
   "id": "15a77357",
   "metadata": {
    "id": "15a77357"
   },
   "outputs": [
    {
     "name": "stdout",
     "output_type": "stream",
     "text": [
      "Informe o tipo de carne: (File Duplo, Alcatra ou Picanha) File Duplo\n",
      "Informe a quantidade comprada: 25\n",
      "Qual a forma de pagamento? (1 - Cartão Tabajara; 2 - Dinheiro; 3 - Vale Alimentação)1\n",
      "--- CUPOM FISCAL ---\n",
      "Carne: File Duplo\n",
      "Valor: R$145.0\n",
      "Pagamento: Cartão Tabajara.\n",
      "Desconto: 7.25.\n",
      "Valor total: R$137.75.\n"
     ]
    }
   ],
   "source": [
    "carne = input(\"Informe o tipo de carne: (File Duplo, Alcatra ou Picanha) \")\n",
    "qtd = float(input(\"Informe a quantidade comprada: \"))\n",
    "\n",
    "pagamento = input(\"Qual a forma de pagamento? (1 - Cartão Tabajara; 2 - Dinheiro; 3 - Vale Alimentação)\")\n",
    "\n",
    "if carne == \"File Duplo\" and qtd > 5:\n",
    "        valor = qtd * 5.80\n",
    "if carne == \"File Duplo\" and qtd <= 5:\n",
    "        valor = qtd * 4.90\n",
    "elif carne == \"Alcatra\" and qtd > 5:\n",
    "        valor = qtd * 6.80\n",
    "elif carne == \"Alcatra\" and qtd <= 5:\n",
    "        valor = qtd * 5.90\n",
    "elif carne == \"Picanha\" and qtd > 5:\n",
    "        valor = qtd * 7.80\n",
    "elif carne == \"Picanha\" and qtd <= 5:\n",
    "        valor = qtd * 6.90\n",
    "    \n",
    "print(\"--- CUPOM FISCAL ---\")\n",
    "print(f\"Carne: {carne}\")\n",
    "print(f\"Valor: R${valor}\")\n",
    "\n",
    "if pagamento == \"1\":\n",
    "    print(f\"Pagamento: Cartão Tabajara.\")\n",
    "elif pagamento == \"2\":\n",
    "    print(f\"Pagamento: Dinheiro.\")\n",
    "else:\n",
    "    print(f\"Pagamento: Vale alimentação.\")\n",
    "\n",
    "desconto = valor * 0.05 if pagamento == \"1\" else 0\n",
    "    \n",
    "print(f\"Desconto: {desconto}.\")\n",
    "print(f\"Valor total: R${valor - desconto}.\")"
   ]
  },
  {
   "cell_type": "markdown",
   "id": "b949545b",
   "metadata": {
    "id": "b949545b"
   },
   "source": [
    "#### 23. Faça um Programa para uma loja de tintas. O programa deverá pedir o tamanho em metros quadrados da área a ser pintada. Considere que a cobertura da tinta é de 1 litro para cada 6 metros quadrados e que a tinta é vendida em latas de 18 litros, que custam R\\\\$ 80,00 ou em galões de 3,6 litros, que custam R\\\\$ 25,00."
   ]
  },
  {
   "cell_type": "code",
   "execution_count": 29,
   "id": "b11185b0",
   "metadata": {
    "id": "b11185b0"
   },
   "outputs": [
    {
     "name": "stdout",
     "output_type": "stream",
     "text": [
      "Informe (em m²) a área a ser pintada: 18\n",
      "3.0\n"
     ]
    }
   ],
   "source": [
    "area = float(input(\"Informe (em m²) a área a ser pintada: \"))\n",
    "litros_tinta = area / 6\n",
    "print(litros_tinta)"
   ]
  },
  {
   "cell_type": "markdown",
   "id": "b3d0598f",
   "metadata": {
    "id": "b3d0598f"
   },
   "source": [
    "##### Informe ao usuário as quantidades de tinta a serem compradas e os respectivos preços em 3 situações.\n",
    "\n",
    "Dica: lembre dos operadores // e % mostrados em exercícios anteriores<br>\n",
    "Dica1: numero // 10 vai te dar como resposta a parte inteira da divisão do número por 10.<br>\n",
    "Dica2: numero % 10 vai te dar o resto da divisão do número por 10.\n",
    "\n",
    "##### 1. Comprar apenas latas de 18 litros: (apenas latas inteiras)"
   ]
  },
  {
   "cell_type": "code",
   "execution_count": 30,
   "id": "ed599d53",
   "metadata": {
    "id": "ed599d53"
   },
   "outputs": [
    {
     "name": "stdout",
     "output_type": "stream",
     "text": [
      "Você precisará de 1.0 latas, o valor é de R$80.0.\n"
     ]
    }
   ],
   "source": [
    "latas = litros_tinta // 18 + 1\n",
    "preco = latas * 80\n",
    "print(f\"Você precisará de {latas} latas, o valor é de R${preco}.\")"
   ]
  },
  {
   "cell_type": "markdown",
   "id": "ab03bc10",
   "metadata": {
    "id": "ab03bc10"
   },
   "source": [
    "##### 2. Comprar apenas galões de 3,6 litros: (apenas galoes inteiros)"
   ]
  },
  {
   "cell_type": "code",
   "execution_count": 31,
   "id": "542f4a77",
   "metadata": {
    "id": "542f4a77"
   },
   "outputs": [
    {
     "name": "stdout",
     "output_type": "stream",
     "text": [
      "Você precisará de 1.0 latas, o valor é de R$25.0.\n"
     ]
    }
   ],
   "source": [
    "latas = litros_tinta // 3.6 + 1\n",
    "preco = latas * 25\n",
    "print(f\"Você precisará de {latas} latas, o valor é de R${preco}.\")"
   ]
  },
  {
   "cell_type": "markdown",
   "id": "8Jbw7RupH9Nc",
   "metadata": {
    "id": "8Jbw7RupH9Nc"
   },
   "source": [
    "##### 3. Misturar latas e galões, de forma que o desperdício de tinta seja menor. Acrescente 10% de folga e sempre arredonde os valores para cima, isto é, considere latas cheias."
   ]
  },
  {
   "cell_type": "markdown",
   "id": "93d4157b",
   "metadata": {
    "id": "93d4157b"
   },
   "source": [
    "O custo da lata é 80/18 = 4,44 R\\\\$/L\n",
    "\n",
    "O custo do galão é 25/3,6 = 6,94 R\\\\$/L\n",
    "\n",
    "A lata é mais econômica, então todas as latas inteiras que pudermos usar devemos comprar em latas. Se ficar faltando alguma coisa para completar devemos avaliar se é melhor comprar latas ou galões. Exemplo:\n",
    "\n",
    "Se queremos comprar 90 litros. 5 latas dão exatamente 90 litros. Então devemos comprar tudo em latas.\n",
    "\n",
    "Se queremos comprar 95 litros. 5 latas dão exatamente 90 litros. Então devemos comprar pelo menos 5 latas e avaliar o que falta, se estes últimos 5 litros valem mais apenas em latas ou galões.\n",
    "\n",
    "Para os 5 litros faltantes precisamos de 2 galões que custam 50 reais no total. Ou de uma lata que custa 80 reais no total. Portanto, neste caso vale mais a pena usar 2 galões.\n",
    "\n",
    "Se queremos comprar 107 litros. 5 latas dão exatamente 90 litros. Então devemos comprar pelo menos 5 latas e avaliar o que falta, se estes últimos 5 litros valem mais apenas em latas ou galões.\n",
    "\n",
    "Para os 17 litros faltantes precisamos de 5 galões que custam 125 reais no total. Ou de uma lata que custa 80 reais no total. Portanto, neste caso vale mais a pena usar uma lata.\n",
    "\n",
    "3 galões custam 75 reais, 4 galões custam 100 reais. Então, se for possível completar com até 3 galões escolhe-se galões. Qualquer quantidade maior que 3 galões, usa-se latas.\n",
    "\n",
    "Podemos ir ao exercício:"
   ]
  },
  {
   "cell_type": "code",
   "execution_count": null,
   "id": "01d104b6",
   "metadata": {
    "id": "01d104b6"
   },
   "outputs": [],
   "source": []
  }
 ],
 "metadata": {
  "colab": {
   "collapsed_sections": [],
   "provenance": []
  },
  "kernelspec": {
   "display_name": "Python 3 (ipykernel)",
   "language": "python",
   "name": "python3"
  },
  "language_info": {
   "codemirror_mode": {
    "name": "ipython",
    "version": 3
   },
   "file_extension": ".py",
   "mimetype": "text/x-python",
   "name": "python",
   "nbconvert_exporter": "python",
   "pygments_lexer": "ipython3",
   "version": "3.9.12"
  }
 },
 "nbformat": 4,
 "nbformat_minor": 5
}
