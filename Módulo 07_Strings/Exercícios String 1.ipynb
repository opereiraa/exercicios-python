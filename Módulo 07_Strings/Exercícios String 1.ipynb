{
 "cells": [
  {
   "cell_type": "markdown",
   "metadata": {},
   "source": [
    "# Exercícios\n",
    "\n",
    "## 1. Cadastro de CPF\n",
    "\n",
    "Crie um programa para cadastro de CPF de clientes que recebe o CPF em um input box apenas com números.\n",
    "\n",
    "Ex: 'Insira seu CPF (digite apenas números)'\n",
    "\n",
    "Caso o usuário digite algo diferente de números ou digite menos de 11 caracteres (tamanho do CPF brasileiro), o programa deve exibir uma mensagem de \"Digite seu CPF corretamente e digite apenas números\""
   ]
  },
  {
   "cell_type": "code",
   "execution_count": 17,
   "metadata": {},
   "outputs": [
    {
     "name": "stdout",
     "output_type": "stream",
     "text": [
      "Insira seu CPF (digite apenas números):\n",
      "\n",
      "112.398.209-09\n",
      "Digite seu CPF corretamente e digite apenas números!\n"
     ]
    }
   ],
   "source": [
    "cpfUsuario = input('Insira seu CPF (digite apenas números):\\n\\n')\n",
    "\n",
    "if cpfUsuario.isnumeric() == False or len(cpfUsuario) != 11:\n",
    "    print('Digite seu CPF corretamente e digite apenas números!')"
   ]
  },
  {
   "cell_type": "markdown",
   "metadata": {},
   "source": [
    "## 2. Melhorando nosso Cadastro de CPF\n",
    "\n",
    "Agora, além das validações anteriores, vamos criar um input que permita que o usuário insira pontos, traços e inclusive espaços vazios.\n",
    "\n",
    "Nosso programa deve \"tratar\" o que o usuário inserir para padronizar o CPF dele em apenas números.\n",
    "\n",
    "A verificação de tamanho do CPF com 11 caracteres continua válida, mas ela só deve ser feita depois de retirar todos os pontos, traços e espaços do CPF que o cliente inserir e, uma vez retirados pontos, traços e espaços, devem sobrar apenas números no CPF. Qualquer outro caractere deve ser considerado inválido.\n",
    "\n",
    "No final, nosso programa deve exibir uma mensagem para o usuário, caso ele tenha inserido o CPF inválido ou então apenas deve printar o CPF correto já só com número."
   ]
  },
  {
   "cell_type": "code",
   "execution_count": 62,
   "metadata": {},
   "outputs": [],
   "source": [
    "def formatarCpf(texto):\n",
    "    texto = texto.replace('.', '')\n",
    "    texto = texto.replace(',', '')\n",
    "    texto = texto.replace('-', '')\n",
    "    texto = texto.strip()\n",
    "    if texto.isnumeric() == False:\n",
    "        texto = 'Digite corretamente o CPF!'\n",
    "    return texto"
   ]
  },
  {
   "cell_type": "code",
   "execution_count": 61,
   "metadata": {},
   "outputs": [
    {
     "name": "stdout",
     "output_type": "stream",
     "text": [
      "Insira seu CPF:\n",
      "\n",
      "11239820909\n",
      "11239820909\n"
     ]
    }
   ],
   "source": [
    "cpfUser = input('Insira seu CPF:\\n\\n')\n",
    "cpfUser = formatarCpf(cpfUser)\n",
    "cpfUser.replace()\n",
    "print(cpfUser)"
   ]
  },
  {
   "cell_type": "markdown",
   "metadata": {},
   "source": [
    "## 3. Cadastro de e-mails\n",
    "\n",
    "- A Hashtag sempre se comunica com seus clientes por e-mail. Para isso, a gente tem em cada página um cadastro de nome e e-mail. Nesse cadastro, nosso sistema verifica se o e-mail que a pessoa inseriu é um e-mail válido, verificando se ele tem '@' e se depois do '@' tem algum ponto, afinal:\n",
    "\n",
    "- liragmail.com NÃO é um e-mail válido\n",
    "- lira@gmail NÃO é um e-mail válido\n",
    "- lira@gmail.com é um e-mail válido\n",
    "\n",
    "Crie um programa que permita o cadastro de nome e e-mail de uma pessoa (por meio de inputs) e que verifique:\n",
    "1. Se nome e e-mail foram preenchidos, caso contrário ele deve avisar para preencher todos os dados corretamente\n",
    "2. Se o e-mail contém '@' e se depois do '@' existe algum '.', caso contrário ele deve exibir uma mensagem de e-mail inválido\n",
    "\n",
    "Obs: Pode te ajudar lembrar do método .find da aula de Métodos de String. Você pode testar o que ele dá como resposta caso ele não encontre um item dentro da string"
   ]
  },
  {
   "cell_type": "code",
   "execution_count": 12,
   "metadata": {},
   "outputs": [],
   "source": [
    "def validaInfo(texto1, texto2):\n",
    "    if texto1 == '' or texto2 == '':\n",
    "        result = 'Preencha todas as informações!'\n",
    "    else:\n",
    "        texto1 = texto1.capitalize()\n",
    "        result = [texto1, texto2]\n",
    "    return result"
   ]
  },
  {
   "cell_type": "code",
   "execution_count": 3,
   "metadata": {},
   "outputs": [],
   "source": [
    "def validaEmail(email):\n",
    "    if '@' not in email or '.' not in email[email.find('@'):]:\n",
    "        result = 'Erro de preenchimento! Verifique, por favor!'\n",
    "    else:\n",
    "        result = email\n",
    "    return result"
   ]
  },
  {
   "cell_type": "code",
   "execution_count": 23,
   "metadata": {},
   "outputs": [
    {
     "name": "stdout",
     "output_type": "stream",
     "text": [
      "Preencha seu nome: \n",
      "thiago\n",
      "Preencha seu e-mail: \n",
      "thiagothomaz041@gmail.com\n",
      "\n",
      "Nome:Thiago.\n",
      "\n",
      "Email: thiagothomaz041@gmail.com\n"
     ]
    }
   ],
   "source": [
    "nome = input('Preencha seu nome: \\n')\n",
    "email = input('Preencha seu e-mail: \\n')\n",
    "\n",
    "respostas = validaInfo(nome, email)\n",
    "respostas[1] = validaEmail(respostas[1])\n",
    "if respostas[1] == 'Erro de preenchimento! Verifique, por favor!':\n",
    "    print(respostas[1])\n",
    "else:\n",
    "    print('\\nNome:{}.\\n\\nEmail: {}'.format(respostas[0], respostas[1]))"
   ]
  }
 ],
 "metadata": {
  "kernelspec": {
   "display_name": "Python 3 (ipykernel)",
   "language": "python",
   "name": "python3"
  },
  "language_info": {
   "codemirror_mode": {
    "name": "ipython",
    "version": 3
   },
   "file_extension": ".py",
   "mimetype": "text/x-python",
   "name": "python",
   "nbconvert_exporter": "python",
   "pygments_lexer": "ipython3",
   "version": "3.9.12"
  }
 },
 "nbformat": 4,
 "nbformat_minor": 4
}
