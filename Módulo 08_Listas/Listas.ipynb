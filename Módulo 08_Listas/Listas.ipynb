{
 "cells": [
  {
   "cell_type": "markdown",
   "id": "2b04bbea",
   "metadata": {
    "id": "2b04bbea"
   },
   "source": [
    "# Listas\n",
    "\n",
    "<span style=\"color: red;\"><b>Todos os exercícios são feitos partindo-se do pressuposto de que todas as entradas são dadas de forma correta. Casos limite não mencionados no enunciado não são abordados porque não fazem parte do exercício.</b></span>"
   ]
  },
  {
   "cell_type": "markdown",
   "id": "dcb81b29",
   "metadata": {
    "id": "dcb81b29"
   },
   "source": [
    "#### 1. Faça um Programa que leia as vendas dos vendedores, mostre a venda de cada vendedor com o seu nome e a média de vendas. "
   ]
  },
  {
   "cell_type": "code",
   "execution_count": 9,
   "id": "09c0d2b3",
   "metadata": {
    "id": "09c0d2b3"
   },
   "outputs": [
    {
     "name": "stdout",
     "output_type": "stream",
     "text": [
      "Vendedor: Fulano | Venda: 1000\n",
      "Vendedor: Beltrano | Venda: 1500\n",
      "Vendedor: Ciclano | Venda: 1200\n",
      "Vendedor: Lira | Venda: 1300\n",
      "A média foi de 1250.0\n"
     ]
    }
   ],
   "source": [
    "vendas = [1000, 1500, 1200, 1300]\n",
    "vendedores = [\"Fulano\", \"Beltrano\", \"Ciclano\", \"Lira\"]\n",
    "\n",
    "for venda in vendas:\n",
    "    print('Vendedor: {} | Venda: {}'.format(vendedores[vendas.index(venda)], venda,))\n",
    "\n",
    "media = sum(vendas) / len(vendas)\n",
    "print('A média foi de {}'.format(media))"
   ]
  },
  {
   "cell_type": "markdown",
   "id": "cbda91b3",
   "metadata": {
    "id": "cbda91b3"
   },
   "source": [
    "#### 2. Faça um Programa que crie uma lista com as médias de cada aluno, imprima as médias de cada aluno e a quantidade de alunos com média maior que 7."
   ]
  },
  {
   "cell_type": "code",
   "execution_count": 43,
   "id": "c93dd233",
   "metadata": {
    "id": "c93dd233"
   },
   "outputs": [
    {
     "name": "stdout",
     "output_type": "stream",
     "text": [
      "----- MÉDIA POR ALUNO -----\n",
      "\n",
      "Aluno: José, Média: 8.75.\n",
      "Aluno: Joana, Média: 6.5.\n",
      "Aluno: Maria, Média: 10.0.\n",
      "Aluno: Carla, Média: 6.75.\n",
      "Aluno: Mauricio, Média: 6.25.\n",
      "Aluno: Andre, Média: 7.25.\n",
      "Aluno: Tiago, Média: 7.5.\n",
      "Aluno: Enzo, Média: 6.5.\n",
      "Aluno: Amanda, Média: 7.5.\n",
      "Aluno: Alessandra, Média: 4.25.\n",
      "\n",
      "5 alunos com média maior que 7.\n"
     ]
    }
   ],
   "source": [
    "alunos = [\"José\", \"Joana\", \"Maria\", \"Carla\", \"Mauricio\", \"Andre\", \"Tiago\", \"Enzo\", \"Amanda\", \"Alessandra\"]\n",
    "notas = [\n",
    "    [10, 9, 8, 8],\n",
    "    [9, 7, 6, 4],\n",
    "    [10, 10, 10, 10],\n",
    "    [5, 3, 10, 9],\n",
    "    [7, 6, 6, 6],\n",
    "    [7, 7, 8, 7],\n",
    "    [7, 7, 7, 9],\n",
    "    [8, 5, 6, 7],\n",
    "    [10, 9, 7, 4],\n",
    "    [10, 1, 3, 3],\n",
    "]\n",
    "\n",
    "media_maior = 0\n",
    "\n",
    "print('----- MÉDIA POR ALUNO -----\\n')\n",
    "for nota in notas:\n",
    "    media = sum(nota) / 4\n",
    "    if media > 7:\n",
    "        media_maior += 1\n",
    "    print('Aluno: {}, Média: {}.'.format(alunos[notas.index(nota)], media))\n",
    "\n",
    "print('\\n{} alunos com média maior que 7.'.format(media_maior))"
   ]
  },
  {
   "cell_type": "markdown",
   "id": "c3068a53",
   "metadata": {
    "id": "c3068a53"
   },
   "source": [
    "#### 3. Foram anotadas as idades e salários de 30 funcionários. Faça um programa que determine quantos funcionários com mais de 25 anos possuem salário inferior à média de todos os salários."
   ]
  },
  {
   "cell_type": "code",
   "execution_count": 77,
   "id": "0308566d",
   "metadata": {
    "id": "0308566d",
    "scrolled": true
   },
   "outputs": [
    {
     "name": "stdout",
     "output_type": "stream",
     "text": [
      "12 funcionários possuem mais de 25 anos e salário inferior a média.\n"
     ]
    }
   ],
   "source": [
    "idades = [35,32,50,33,48,50,33,48,22,49,35,38,20,47,49,48,34,21,48,44,48,30,25,42,42,23,25,23,38,35]\n",
    "salarios = [3739,2219,3554,3978,4014,3270,4792,3879,2981,2384,4826,2460,3680,4318,1872,1770,4640,3929,3295,1729,3965,4267,4007,1916,2987,2943,3852,4543,2055,1730]\n",
    "\n",
    "media_salarial = sum(salarios)/len(salarios)\n",
    "salarios_inferiores = 0\n",
    "\n",
    "for i in range(len(idades)):\n",
    "    if salarios[i] < media_salarial:\n",
    "        if idades[i] > 25:\n",
    "            salarios_inferiores += 1\n",
    "\n",
    "print('{} funcionários possuem mais de 25 anos e salário inferior a média.'.format(salarios_inferiores))"
   ]
  },
  {
   "cell_type": "markdown",
   "id": "1611081b",
   "metadata": {
    "id": "1611081b"
   },
   "source": [
    "#### 4.Em quais meses a média de temperatura foi maior do que a média nacional?"
   ]
  },
  {
   "cell_type": "code",
   "execution_count": 92,
   "id": "62f72e2b",
   "metadata": {
    "id": "62f72e2b"
   },
   "outputs": [
    {
     "name": "stdout",
     "output_type": "stream",
     "text": [
      "Média: 25.8333\n",
      "\n",
      "Janeiro apresentou 30 graus.\n",
      "Fevereiro apresentou 29 graus.\n",
      "Março apresentou 28 graus.\n",
      "Abril apresentou 28 graus.\n",
      "Junho apresentou 26 graus.\n",
      "Novembro apresentou 27 graus.\n",
      "Dezembro apresentou 32 graus.\n"
     ]
    }
   ],
   "source": [
    "meses = [\n",
    "    'Janeiro',\n",
    "    'Fevereiro',\n",
    "    'Março',\n",
    "    'Abril',\n",
    "    'Maio',\n",
    "    'Junho',\n",
    "    'Julho',\n",
    "    'Agosto',\n",
    "    'Setembro',\n",
    "    'Outubro',\n",
    "    'Novembro',\n",
    "    'Dezembro'\n",
    "]\n",
    "\n",
    "temperaturas = [30, 29, 28, 28, 25, 26, 20, 21, 19, 25, 27, 32]\n",
    "media_temperaturas = sum(temperaturas) / len(temperaturas)\n",
    "\n",
    "print('Média: {:0n}\\n'.format(media_temperaturas))\n",
    "for i, temperatura in enumerate(temperaturas):\n",
    "    if temperatura > media_temperaturas:\n",
    "        print('{} apresentou {} graus.'.format(meses[i], temperatura))"
   ]
  },
  {
   "cell_type": "markdown",
   "id": "8946af31",
   "metadata": {
    "id": "8946af31"
   },
   "source": [
    "#### 5. As Organizações Tabajara resolveram dar um abono aos seus colaboradores em reconhecimento ao bom resultado alcançado durante o ano que passou. Para isto contratou você para desenvolver a aplicação que servirá como uma projeção de quanto será gasto com o pagamento deste abono.\n",
    "<pre>Após reuniões envolvendo a diretoria executiva, a diretoria financeira e os representantes do sindicato laboral, chegou-se a seguinte forma de cálculo:\n",
    ". Cada funcionário receberá o equivalente a 20% do seu salário bruto de dezembro;\n",
    ". O piso do abono será de 100 reais, isto é, aqueles funcionários cujo salário for muito baixo, recebem este valor mínimo; \n",
    "\n",
    "Neste momento, não se deve ter nenhuma preocupação com colaboradores com tempo menor de casa, descontos, impostos ou outras particularidades. O programa deverá calcular o valor do abono concedido a cada colaborador, de acordo com a regra definida acima. Ao final, o programa deverá apresentar:</pre>\n",
    "<pre>\n",
    "O salário de cada funcionário, juntamente com o valor do abono;\n",
    "O número total de funcionário processados;\n",
    "O valor total a ser gasto com o pagamento do abono;\n",
    "O número de funcionário que receberá o valor mínimo de 100 reais;\n",
    "O maior valor pago como abono; A tela abaixo é um exemplo de execução do programa, apenas para fins ilustrativos.\n",
    "<pre>\n",
    "Projeção de Gastos com Abono\n",
    "============================ \n",
    " \n",
    "Salário: 1000\n",
    "Salário: 300\n",
    "Salário: 500\n",
    "Salário: 100\n",
    "Salário: 4500\n",
    "Salário: 0\n",
    " \n",
    "Salário    - Abono     \n",
    "R$ 1000.00 - R$  200.00\n",
    "R$  300.00 - R$  100.00\n",
    "R$  500.00 - R$  100.00\n",
    "R$  100.00 - R$  100.00\n",
    "R$ 4500.00 - R$  900.00\n",
    " \n",
    "Foram processados 5 colaboradores\n",
    "Total gasto com abonos: R$ 1400.00\n",
    "Valor mínimo pago a 3 colaboradores\n",
    "Maior valor de abono pago: R$ 900.00"
   ]
  },
  {
   "cell_type": "code",
   "execution_count": 35,
   "id": "fadbcfb2",
   "metadata": {
    "id": "fadbcfb2"
   },
   "outputs": [
    {
     "name": "stdout",
     "output_type": "stream",
     "text": [
      "Projeção de Gastos com Abono\n",
      "============================\n",
      "\n",
      "\n",
      "Salários - Abonos\n",
      "R$1,000 - R$200.0\n",
      "R$300 - R$100\n",
      "R$500 - R$100\n",
      "R$200 - R$100\n",
      "R$1,500 - R$300.0\n",
      "R$3,000 - R$600.0\n",
      "R$3,400 - R$680.0\n",
      "R$5,000 - R$1,000.0\n",
      "R$7,000 - R$1,400.0\n",
      "R$2,000 - R$400.0\n",
      "R$600 - R$120.0\n",
      "R$800 - R$160.0\n",
      "R$250 - R$100\n",
      "R$1,500 - R$300.0\n",
      "R$20,000 - R$4,000.0\n",
      "\n",
      "\n",
      "Foram processados 15 colaboradores\n",
      "Total gasto com abonos: R$9560.0\n",
      "Valor mínimo pago a 4 colaboradores\n",
      "Maior valor de abono pago: R$4000.0\n"
     ]
    }
   ],
   "source": [
    "salarios = [1000, 300, 500, 200, 1500, 3000, 3400, 5000, 7000, 2000, 600, 800, 250, 1500, 20000]\n",
    "abonos = []\n",
    "\n",
    "print('Projeção de Gastos com Abono')\n",
    "print('============================\\n')\n",
    "abono_minimo = 0\n",
    "\n",
    "for i, salario in enumerate(salarios):\n",
    "    if salario * 0.20 > 100:\n",
    "        abonos.append(salario * 0.20)\n",
    "    else:\n",
    "        abonos.append(100)\n",
    "        abono_minimo += 1\n",
    "print('\\nSalários - Abonos')\n",
    "for i, salario in enumerate(salarios):\n",
    "        print('R${:,} - R${:,}'.format(salarios[i], abonos[i]))\n",
    "print('\\n')\n",
    "print('Foram processados {} colaboradores'.format(len(abonos)))\n",
    "print('Total gasto com abonos: R${}'.format(sum(abonos)))\n",
    "print('Valor mínimo pago a {} colaboradores'.format(abono_minimo))\n",
    "print('Maior valor de abono pago: R${}'.format(max(abonos)))"
   ]
  },
  {
   "cell_type": "markdown",
   "id": "382b0981",
   "metadata": {
    "id": "382b0981"
   },
   "source": [
    "#### 6. Faça um programa que carregue uma lista com os modelos de cinco carros (exemplo de modelos: FUSCA, GOL, VECTRA etc). Carregue uma outra lista com o consumo desses carros, isto é, quantos quilômetros cada um desses carros faz com um litro de combustível. Calcule e mostre:\n",
    "<pre>\n",
    "a. O modelo do carro mais econômico;\n",
    "b. Quantos litros de combustível cada um dos carros cadastrados consome para percorrer uma distância de 1000 quilômetros e quanto isto custará, considerando um que a gasolina custe R$ 2,25 o litro. Abaixo segue uma tela de exemplo. O disposição das informações deve ser o mais próxima possível ao exemplo. Os dados são fictícios e podem mudar a cada execução do programa.</pre>\n",
    "```\n",
    "Comparativo de Consumo de Combustível\n",
    "\n",
    "Veículo 1\n",
    "Nome: fusca\n",
    "Km por litro: 7\n",
    "Veículo 2\n",
    "Nome: gol\n",
    "Km por litro: 10\n",
    "Veículo 3\n",
    "Nome: uno\n",
    "Km por litro: 12.5\n",
    "Veículo 4\n",
    "Nome: Vectra\n",
    "Km por litro: 9\n",
    "Veículo 5\n",
    "Nome: Peugeout\n",
    "Km por litro: 14.5\n",
    "\n",
    "Relatório Final\n",
    " 1 - fusca           -    7.0 -  142.9 litros - R$ 321.43\n",
    " 2 - gol             -   10.0 -  100.0 litros - R$ 225.00\n",
    " 3 - uno             -   12.5 -   80.0 litros - R$ 180.00\n",
    " 4 - vectra          -    9.0 -  111.1 litros - R$ 250.00\n",
    " 5 - peugeout        -   14.5 -   69.0 litros - R$ 155.17\n",
    "O menor consumo é do peugeout.\n",
    "```"
   ]
  },
  {
   "cell_type": "code",
   "execution_count": 21,
   "id": "6b6c8b06",
   "metadata": {
    "id": "6b6c8b06"
   },
   "outputs": [
    {
     "name": "stdout",
     "output_type": "stream",
     "text": [
      "Comparativo de Consumo de Combustível\n",
      "Relatório Final\n",
      "1 - fusca      -  7 - 142.86 litros - R$321.43\n",
      "2 -  gol      -  10 - 100.00 litros - R$225.00\n",
      "3 - uno      -  12.5 - 80.00 litros - R$180.00\n",
      "4 - vectra      -  9 - 111.11 litros - R$250.00\n",
      "5 - peugeot      -  14.5 - 68.97 litros - R$155.17\n",
      "O menor consumo é do peugeot.\n"
     ]
    }
   ],
   "source": [
    "print('Comparativo de Consumo de Combustível')\n",
    "veiculos = ['fusca',' gol', 'uno', 'vectra', 'peugeot']\n",
    "autonomias = [7, 10, 12.5, 9, 14.5]\n",
    "viagem_mil = []     \n",
    "print('Relatório Final')\n",
    "\n",
    "for i,autonomia in enumerate(autonomias):\n",
    "        viagem_mil.append(1000 / autonomia)\n",
    "        print('{} - {}      -  {} - {:.2f} litros - R${:.2f}'.format(i + 1, veiculos[i], autonomias[i], viagem_mil[i], viagem_mil[i] * 2.25))\n",
    "\n",
    "print('O menor consumo é do {}.'.format(veiculos[autonomias.index(max(autonomias))]))\n"
   ]
  },
  {
   "cell_type": "markdown",
   "id": "1d0260a3",
   "metadata": {
    "id": "1d0260a3"
   },
   "source": [
    "#### 7. Uma empresa paga seus vendedores com base em comissões. O vendedor recebe \\\\$200 por semana mais 9 por cento de suas vendas brutas daquela semana. Por exemplo, um vendedor que teve vendas brutas de \\\\$3000 em uma semana recebe \\\\$200 mais 9 por cento de \\\\$3000, ou seja, um total de \\\\$470. Escreva um programa (usando um array de contadores) que determine quantos vendedores receberam salários nos seguintes intervalos de valores:\n",
    "<pre>\n",
    "$200 - $299\n",
    "$300 - $399\n",
    "$400 - $499\n",
    "$500 - $599\n",
    "$600 - $699\n",
    "$700 - $799\n",
    "$800 - $899\n",
    "$900 - $999\n",
    "$1000 em diante\n",
    "</pre>\n",
    "\n",
    "Existem várias formas de fazer. Faça primeiro da forma que parecer mais intuitiva para você.\n",
    "\n",
    "Em seguida, caso queira um desafio:\n",
    "Desafio: Crie uma forma para chegar na posição da lista a partir do salário, sem fazer vários ifs aninhados."
   ]
  },
  {
   "cell_type": "code",
   "execution_count": 28,
   "id": "fc6eaae4",
   "metadata": {
    "id": "fc6eaae4"
   },
   "outputs": [
    {
     "name": "stdout",
     "output_type": "stream",
     "text": [
      "[290.0, 380.0, 470.0, 560.0, 650.0, 740.0, 695.0, 605.0, 524.0]\n",
      "1 abaixo de 299\n",
      "1 abaixo de 399\n",
      "1 abaixo de 499\n",
      "2 abaixo de 599\n",
      "3 abaixo de 699\n",
      "1 abaixo de 799\n",
      "0 abaixo de 899\n",
      "0 abaixo de 999\n",
      "0 acima de 1000\n"
     ]
    }
   ],
   "source": [
    "vendas = [1000, 2000, 3000, 4000, 5000, 6000, 5500, 4500, 3600]\n",
    "comissoes = []\n",
    "cata = 0\n",
    "catb = 0\n",
    "catc = 0\n",
    "catd = 0\n",
    "cate = 0\n",
    "catf = 0\n",
    "catg = 0\n",
    "cath = 0\n",
    "cati = 0\n",
    "\n",
    "for venda in vendas:\n",
    "    comissoes.append(200 + venda * 0.09)\n",
    "    \n",
    "for comissao in comissoes:\n",
    "    if comissao < 299:\n",
    "        cata += 1\n",
    "    elif comissao < 399:\n",
    "        catb += 1\n",
    "    elif comissao < 499:\n",
    "        catc += 1\n",
    "    elif comissao < 599:\n",
    "        catd += 1\n",
    "    elif comissao < 699:\n",
    "        cate += 1\n",
    "    elif comissao < 799:\n",
    "        catf += 1\n",
    "    elif comissao < 899:\n",
    "        catg += 1\n",
    "    elif comissao < 999:\n",
    "        cath += 1\n",
    "    else:\n",
    "        cati += 1\n",
    "\n",
    "print(comissoes)\n",
    "print('{} abaixo de 299'.format(cata))\n",
    "print('{} abaixo de 399'.format(catb))\n",
    "print('{} abaixo de 499'.format(catc))\n",
    "print('{} abaixo de 599'.format(catd))\n",
    "print('{} abaixo de 699'.format(cate))\n",
    "print('{} abaixo de 799'.format(catf))\n",
    "print('{} abaixo de 899'.format(catg))\n",
    "print('{} abaixo de 999'.format(cath))\n",
    "print('{} acima de 1000'.format(cati))"
   ]
  }
 ],
 "metadata": {
  "colab": {
   "provenance": []
  },
  "kernelspec": {
   "display_name": "Python 3 (ipykernel)",
   "language": "python",
   "name": "python3"
  },
  "language_info": {
   "codemirror_mode": {
    "name": "ipython",
    "version": 3
   },
   "file_extension": ".py",
   "mimetype": "text/x-python",
   "name": "python",
   "nbconvert_exporter": "python",
   "pygments_lexer": "ipython3",
   "version": "3.9.12"
  }
 },
 "nbformat": 4,
 "nbformat_minor": 5
}
