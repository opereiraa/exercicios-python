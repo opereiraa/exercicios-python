{
 "cells": [
  {
   "cell_type": "markdown",
   "metadata": {},
   "source": [
    "# Exercícios\n",
    "\n",
    "## 1. Faturamento do Melhor e do Pior Mês do Ano\n",
    "\n",
    "Qual foi o valor de vendas do melhor mês do Ano?\n",
    "E valor do pior mês do ano?"
   ]
  },
  {
   "cell_type": "code",
   "execution_count": 34,
   "metadata": {
    "scrolled": true
   },
   "outputs": [
    {
     "name": "stdout",
     "output_type": "stream",
     "text": [
      "O maior valor vendido foi de 49051\n",
      "O menor valor vendido foi de 9650\n"
     ]
    }
   ],
   "source": [
    "meses = ['jan', 'fev', 'mar', 'abr', 'mai', 'jun', 'jul', 'ago', 'set', 'out', 'nov', 'dez']\n",
    "vendas_1sem = [25000, 29000, 22200, 17750, 15870, 19900]\n",
    "vendas_2sem = [19850, 20120, 17540, 15555, 49051, 9650]\n",
    "\n",
    "vendas = vendas_1sem + vendas_2sem\n",
    "maior_venda = max(vendas)\n",
    "menor_venda = min(vendas)\n",
    "\n",
    "print('O maior valor vendido foi de {}'.format(maior_venda))\n",
    "print('O menor valor vendido foi de {}'.format(menor_venda))"
   ]
  },
  {
   "cell_type": "markdown",
   "metadata": {},
   "source": [
    "## 2. Continuação\n",
    "\n",
    "Agora relacione as duas listas para printar 'O melhor mês do ano foi {} com {} vendas' e o mesmo para o pior mês do ano.\n",
    "\n",
    "Calcule também o faturamento total do Ano e quanto que o melhor mês representou do faturamento total.\n",
    "\n",
    "Obs: Para o faturamento total, pode usar a função sum(lista) que soma todos os itens de uma lista"
   ]
  },
  {
   "cell_type": "code",
   "execution_count": 22,
   "metadata": {},
   "outputs": [
    {
     "name": "stdout",
     "output_type": "stream",
     "text": [
      "O melhor mês do ano foi nov com R$49_051.00 vendas\n",
      "O pior mês do ano foi dez com R$9_650.00 vendas\n",
      "O total faturaodo no ano foi de R$261_486.00\n",
      "A maior venda representa 18.76% das vendas totais.\n"
     ]
    }
   ],
   "source": [
    "i_maior_valor = vendas.index(maior_venda)\n",
    "i_menor_valor = vendas.index(menor_venda)\n",
    "print('O melhor mês do ano foi {} com R${:_.2f} vendas'.format(meses[i_maior_valor], maior_venda))\n",
    "print('O pior mês do ano foi {} com R${:_.2f} vendas'.format(meses[i_menor_valor], menor_venda))\n",
    "\n",
    "total_faturado = sum(vendas)\n",
    "print('O total faturaodo no ano foi de R${:_.2f}'.format(total_faturado))\n",
    "\n",
    "percentual = (maior_venda / total_faturado)*100\n",
    "print('A maior venda representa {:.2f}% das vendas totais.'.format(percentual))"
   ]
  },
  {
   "cell_type": "markdown",
   "metadata": {},
   "source": [
    "## 3. Crie uma lista com o top 3 valores de vendas do ano (sem fazer \"no olho\")\n",
    "\n",
    "Dica: o método remove retira um item da lista."
   ]
  },
  {
   "cell_type": "code",
   "execution_count": 35,
   "metadata": {},
   "outputs": [
    {
     "name": "stdout",
     "output_type": "stream",
     "text": [
      "[25000, 29000, 22200, 17750, 15870, 19900, 19850, 20120, 17540, 15555, 49051, 9650]\n",
      "[49051, 29000, 25000]\n"
     ]
    }
   ],
   "source": [
    "top3 = []\n",
    "\n",
    "print(vendas)\n",
    "\n",
    "maior_valor = max(vendas)\n",
    "top3.append(maior_valor)\n",
    "vendas.remove(maior_valor)\n",
    "\n",
    "maior_valor = max(vendas)\n",
    "top3.append(maior_valor)\n",
    "vendas.remove(maior_valor)\n",
    "\n",
    "maior_valor = max(vendas)\n",
    "top3.append(maior_valor)\n",
    "vendas.remove(maior_valor)\n",
    "\n",
    "print(top3)"
   ]
  }
 ],
 "metadata": {
  "kernelspec": {
   "display_name": "Python 3 (ipykernel)",
   "language": "python",
   "name": "python3"
  },
  "language_info": {
   "codemirror_mode": {
    "name": "ipython",
    "version": 3
   },
   "file_extension": ".py",
   "mimetype": "text/x-python",
   "name": "python",
   "nbconvert_exporter": "python",
   "pygments_lexer": "ipython3",
   "version": "3.9.12"
  }
 },
 "nbformat": 4,
 "nbformat_minor": 4
}
