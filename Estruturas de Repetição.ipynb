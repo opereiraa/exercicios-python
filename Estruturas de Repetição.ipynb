{
 "cells": [
  {
   "cell_type": "markdown",
   "id": "ac60394f",
   "metadata": {
    "id": "ac60394f"
   },
   "source": [
    "# Estruturas de repetição\n",
    "\n",
    "<span style=\"color: red;\"><b>Todos os exercícios são feitos partindo-se do pressuposto de que todas as entradas são dadas de forma correta. Casos limite não mencionados no enunciado não são abordados porque não fazem parte do exercício.</b></span>"
   ]
  },
  {
   "cell_type": "markdown",
   "id": "017affd0",
   "metadata": {
    "id": "017affd0"
   },
   "source": [
    "#### 1. Faça um programa que peça uma nota, entre zero e dez. Mostre uma mensagem caso o valor seja inválido e continue pedindo até que o usuário informe um valor válido."
   ]
  },
  {
   "cell_type": "code",
   "execution_count": null,
   "id": "5f12870d",
   "metadata": {
    "id": "5f12870d"
   },
   "outputs": [],
   "source": [
    "nota = float(input('Insira sua nota: '))\n",
    "\n",
    "while nota < 0 or nota > 10 or nota == '':\n",
    "    print('Sua nota não pode ser menor que 0 ou maior que 10')\n",
    "    nota = float(input('Insira sua nota corretamente: '))\n",
    "\n",
    "print(nota)"
   ]
  },
  {
   "cell_type": "markdown",
   "id": "dd0c6d56",
   "metadata": {
    "id": "dd0c6d56"
   },
   "source": [
    "#### 2. Faça um programa que leia um nome de usuário e a sua senha e não aceite a senha igual ao nome do usuário, mostrando uma mensagem de erro e voltando a pedir as informações."
   ]
  },
  {
   "cell_type": "code",
   "execution_count": null,
   "id": "f6579866",
   "metadata": {
    "id": "f6579866"
   },
   "outputs": [],
   "source": [
    "login = input('Informe seu login: ')\n",
    "senha = input('Informe sua senha: ')\n",
    "\n",
    "while senha == login:\n",
    "    print('Sua senha não pode ser igual ao login, tente novamente!')\n",
    "    senha = input('Informe uma senha diferente do login: ')"
   ]
  },
  {
   "cell_type": "markdown",
   "id": "ed113a82",
   "metadata": {
    "id": "ed113a82"
   },
   "source": [
    "#### 3. Faça um programa que leia e valide as seguintes informações (e para cada uma delas, continue pedindo a informação até o usuário inserir corretamente):\n",
    "##### Nome: maior que 3 caracteres;\n",
    "##### Idade: entre 0 e 150;\n",
    "##### Salário: maior que zero;\n",
    "##### Sexo: 'f' ou 'm';\n",
    "##### Estado Civil: 's', 'c', 'v', 'd';"
   ]
  },
  {
   "cell_type": "code",
   "execution_count": null,
   "id": "3284f187",
   "metadata": {
    "id": "3284f187"
   },
   "outputs": [],
   "source": [
    "nome = input('Insira o seu nome: ')\n",
    "idade = int(input('Insira a sua idade: '))\n",
    "salario = float(input('Insira o seu salario: '))\n",
    "sexo = input('Qual o seu sexo? (f - feminino; m - masculino):')\n",
    "estado_civil = input('Qual o seu estado civil? (s - solteiro; c - casado; v - viuvo ou d - divorciado):')\n",
    "estados = ('s','c', 'v', 'd')\n",
    "\n",
    "while len(nome) <= 3:\n",
    "    print('Seu nome não pode possuir menos que 3 caracteres, tente novamente.')\n",
    "    nome = input('Insira o seu nome: ')\n",
    "\n",
    "while idade < 0 or idade > 150:\n",
    "    print('Sua idade deve ser entre 0 e 150, tente novamente.')\n",
    "    idade = int(input('Insira a sua idade: '))\n",
    "\n",
    "while salario <= 0:\n",
    "    print('Seu salario não pode ser menor que 0, tente novamente.')\n",
    "    salario = float(input('Insira o seu salario: '))\n",
    "\n",
    "while sexo != 'f' and sexo != 'm':\n",
    "    print('As opções são f = feminino ou m - masculino, tente novamente.')\n",
    "    sexo = input('Qual o seu sexo? (f - feminino; m - masculino):')\n",
    "\n",
    "while estado_civil not in estados:\n",
    "    print('Reveja as opções.')\n",
    "    estado_civil = input('Qual o seu estado civil? (s - solteiro; c - casado; v - viuvo ou d - divorciado):')\n"
   ]
  },
  {
   "cell_type": "markdown",
   "id": "2f25dceb",
   "metadata": {
    "id": "2f25dceb"
   },
   "source": [
    "#### 4. Supondo que a população de um país A seja da ordem de 80000 habitantes com uma taxa anual de crescimento de 3% e que a população de B seja 200000 habitantes com uma taxa de crescimento de 1.5%. Faça um programa que calcule e escreva o número de anos necessários para que a população do país A ultrapasse ou iguale a população do país B, mantidas as taxas de crescimento."
   ]
  },
  {
   "cell_type": "code",
   "execution_count": null,
   "id": "7ad0f5e9",
   "metadata": {
    "id": "7ad0f5e9"
   },
   "outputs": [],
   "source": [
    "pais_a = 80000\n",
    "pais_b = 200000\n",
    "taxa_a = 1.03\n",
    "taxa_b = 1.015\n",
    "\n",
    "i = 0\n",
    "while pais_a <= pais_b:\n",
    "    pais_a = pais_a * taxa_a\n",
    "    pais_b = pais_b * taxa_b\n",
    "    i = i + 1\n",
    "\n",
    "print('Foram necessários {} anos para que a população do País A atingisse a população do País B.'.format(i))"
   ]
  },
  {
   "cell_type": "markdown",
   "id": "e9626858",
   "metadata": {
    "id": "e9626858"
   },
   "source": [
    "#### 5. Altere o programa anterior permitindo ao usuário informar as populações e as taxas de crescimento iniciais. Valide a entrada e permita repetir a operação."
   ]
  },
  {
   "cell_type": "code",
   "execution_count": null,
   "id": "c7e250a4",
   "metadata": {
    "id": "c7e250a4"
   },
   "outputs": [],
   "source": [
    "print('''A intenção deste programa é calcular quanto tempo a população de um determinado país leva para alcançar a \n",
    "quantidade em população de outro, levando em consideração sua taxa de crescimento populacional.\n",
    "\\nPara isso, o ideal é que a população do segundo país seja MAIOR que a do primeiro e a taxa seja MENOR.\\n''')\n",
    "\n",
    "repetir = 's'\n",
    "\n",
    "while repetir == 's':\n",
    "    \n",
    "    populacao_a = float(input('Informe a população do Primeiro País: '))\n",
    "    populacao_b = float(input('Informe a população do Segundo País: '))\n",
    "\n",
    "    while populacao_a <= 0 or populacao_b <= 0:\n",
    "        print('\\n***A população deve ser maior que 0. Preencha novamente***')\n",
    "        populacao_a = float(input('Informe a população do Primeiro País: '))\n",
    "        populacao_b = float(input('Informe a população do Segundo País: '))\n",
    "\n",
    "    taxa_a = float(input('Insira a taxa de crescimento da primeira população (ex. insira 3 para 3% ou 1.5 para 1,5%): '))\n",
    "    taxa_b = float(input('Insira a taxa de crescimento da segunda população (ex. insira 3 para 3% ou 1.5 para 1,5%): '))\n",
    "\n",
    "    while taxa_a <= 0 or taxa_b <= 0 or taxa_a > 5 or taxa_b > 5:\n",
    "        print('\\n***A taxa deve ser entre 0 e 5. Preencha novamente!!***')\n",
    "        taxa_a = float(input('Insira a taxa de crescimento da primeira população (ex. insira 3 para 3% ou 1.5 para 1,5%): '))\n",
    "        taxa_b = float(input('Insira a taxa de crescimento da segunda população (ex. insira 3 para 3% ou 1.5 para 1,5%): '))\n",
    "\n",
    "    taxa_a = taxa_a / 100 + 1\n",
    "    taxa_b = taxa_b / 100 + 1\n",
    "\n",
    "    tempo = 0\n",
    "    while populacao_a <= populacao_b:\n",
    "        populacao_a = populacao_a * taxa_a\n",
    "        populacao_b = populacao_b * taxa_b\n",
    "        tempo += 1\n",
    "    \n",
    "    print('\\nSerão necessários {} anos para que as populações se igualem.'.format(tempo))\n",
    "    repetir = input('Deseja repetir a operação? (s - sim; n - não)')"
   ]
  },
  {
   "cell_type": "markdown",
   "id": "b3d268b5",
   "metadata": {
    "id": "b3d268b5"
   },
   "source": [
    "#### 6. Faça um programa que peça para o usuário inserir o faturamento dos últimos 5 meses (individualmente) e informe o maior faturamento"
   ]
  },
  {
   "cell_type": "code",
   "execution_count": null,
   "id": "8078e7a5",
   "metadata": {
    "id": "8078e7a5"
   },
   "outputs": [],
   "source": [
    "for i in range(5):\n",
    "    faturamento = float(input('Informe o faturamento: '))\n",
    "    if i == 0:\n",
    "        maior = faturamento\n",
    "    else:\n",
    "        if faturamento > maior:\n",
    "            maior = faturamento\n",
    "            \n",
    "print(maior)"
   ]
  },
  {
   "cell_type": "markdown",
   "id": "6407824c",
   "metadata": {
    "id": "6407824c"
   },
   "source": [
    "#### 7. Faça um programa que peça para o usuário inserir o faturamento dos últimos 5 meses (individualmente) e informe o faturamento total (soma) e o faturamento médio por mês (média)."
   ]
  },
  {
   "cell_type": "code",
   "execution_count": null,
   "id": "a02320d1",
   "metadata": {
    "id": "a02320d1"
   },
   "outputs": [],
   "source": [
    "faturamentos = []\n",
    "\n",
    "i = 0\n",
    "\n",
    "while i <= 4:\n",
    "    faturamento = float(input(f'Informe o faturamento do {i+1}º mês'))\n",
    "    faturamentos.append(faturamento)\n",
    "    i +=1\n",
    "    \n",
    "print('\\nO total faturado nesses 5 meses foi de R${:,}'.format(sum(faturamentos)))\n",
    "print('A média desses 5 meses foi de R${:,}'.format(sum(faturamentos)/len(faturamentos)))"
   ]
  },
  {
   "cell_type": "markdown",
   "id": "703f3c4d",
   "metadata": {
    "id": "703f3c4d"
   },
   "source": [
    "#### 8. Faça um programa que consiga categorizar a idade das equipes de uma empresa. Faça um programa que peça para n pessoas a sua idade, ao final o programa devera verificar se a média de idade da equipe varia entre 0 e 25 (jovem) ,26 e 60 (sênior) e maior que 60 (idosa); e então, dizer se a equipe é jovem, sênior ou idosa, conforme a média calculada."
   ]
  },
  {
   "cell_type": "code",
   "execution_count": null,
   "id": "b56a85de",
   "metadata": {
    "id": "b56a85de"
   },
   "outputs": [],
   "source": [
    "idades = []\n",
    "qtd = int(input('Qual a quantidade de funcionários? '))\n",
    "\n",
    "for i in range(qtd):\n",
    "    idade = int(input('Informe a idade: '))\n",
    "    idades.append(idade)\n",
    "    \n",
    "media = sum(idades)/qtd\n",
    "print(media)\n",
    "if media > 25 and media < 60:\n",
    "    print('A equipe é Sênior.')\n",
    "elif media >= 60:\n",
    "    print('A equipe é Idosa.')\n",
    "else:\n",
    "    print('A equipe é Jovem.')"
   ]
  },
  {
   "cell_type": "markdown",
   "id": "aad21b98",
   "metadata": {
    "id": "aad21b98"
   },
   "source": [
    "#### 9. Numa eleição existem três candidatos. Faça um programa que peça o número total de eleitores. Peça para cada eleitor votar e ao final mostrar o número de votos de cada candidato."
   ]
  },
  {
   "cell_type": "code",
   "execution_count": null,
   "id": "84aa7a93",
   "metadata": {
    "id": "84aa7a93"
   },
   "outputs": [],
   "source": [
    "eleitores = int(input('Informe a quantidade total de eleitores: '))\n",
    "\n",
    "candi1 = 0\n",
    "candi2 = 0\n",
    "candi3 = 0\n",
    "nulo = 0\n",
    "\n",
    "for i in range(eleitores):\n",
    "    voto = input('Insira o seu voto: ')\n",
    "    \n",
    "    while voto == '':\n",
    "        print('\\nSeu voto não pode estar vazio!')\n",
    "        voto = input('Insira o seu voto: ')\n",
    "    voto = int(voto)\n",
    "    if voto == 1:\n",
    "        candi1 += 1\n",
    "    elif voto == 2:\n",
    "        candi2 += 1\n",
    "    elif voto == 3:\n",
    "        candi3 += 1\n",
    "    else:\n",
    "        nulo += 1\n",
    "        \n",
    "print('''Candidato 1: {}\n",
    "Candidato 2: {}\n",
    "Candidato 3: {}\n",
    "Votos nulos: {}'''.format(candi1, candi2, candi3, nulo))"
   ]
  },
  {
   "cell_type": "markdown",
   "id": "6e306453",
   "metadata": {
    "id": "6e306453"
   },
   "source": [
    "#### 10. Faça um programa que calcule o valor total investido por um colecionador em sua coleção de CDs e o valor médio gasto em cada um deles. O usuário deverá informar a quantidade de CDs e o valor para em cada um."
   ]
  },
  {
   "cell_type": "code",
   "execution_count": null,
   "id": "6b7fa4a2",
   "metadata": {
    "id": "6b7fa4a2"
   },
   "outputs": [],
   "source": [
    "valores = []\n",
    "cds = int(input('Informe a quantidade de CDS: '))\n",
    "\n",
    "for i in range(cds):\n",
    "    valor = float(input('Informe o valor do CD: '))\n",
    "    valores.append(valor)\n",
    "\n",
    "print(f'O valor total investido foi de: R${sum(valores)}')\n",
    "print('O valor médio por CD é de: R${}'.format(sum(valores)/cds))"
   ]
  },
  {
   "cell_type": "markdown",
   "id": "f19c8d86",
   "metadata": {
    "id": "f19c8d86"
   },
   "source": [
    "#### 11. O Sr. Manoel Joaquim possui uma grande loja de artigos de R\\\\$ 1,99, com cerca de 10 caixas. Para agilizar o cálculo de quanto cada cliente deve pagar ele desenvolveu um tabela que contém o número de itens que o cliente comprou e ao lado o valor da conta. Desta forma a atendente do caixa precisa apenas contar quantos itens o cliente está levando e olhar na tabela de preços. Você foi contratado para desenvolver o programa que monta esta tabela de preços, que conterá os preços de 1 até 50 produtos, conforme o exemplo abaixo:\n",
    "<pre>\n",
    "Lojas Quase Dois - Tabela de preços\n",
    "1 - R$ 1.99\n",
    "2 - R$ 3.98\n",
    "...\n",
    "50 - R$ 99.50\n",
    "</pre>"
   ]
  },
  {
   "cell_type": "code",
   "execution_count": null,
   "id": "4fc4d54d",
   "metadata": {
    "id": "4fc4d54d"
   },
   "outputs": [],
   "source": [
    "precos = []\n",
    "\n",
    "print('-----TABELA DE PREÇOS-----\\n')\n",
    "for i in range(50):\n",
    "    preco = 1.99 * (i+1)\n",
    "    precos.append(preco)\n",
    "    print('{} - R${}'.format(i+1, preco))\n",
    "    \n",
    "qtd = int(input('Qual a quantidade de produtos comprados?'))\n",
    "print('O valor a ser pago será de R${}'.format(precos[qtd - 1]))"
   ]
  },
  {
   "cell_type": "markdown",
   "id": "6cd19c52",
   "metadata": {
    "id": "6cd19c52"
   },
   "source": [
    "#### 12. Um funcionário de uma empresa recebe aumento salarial anualmente: Sabe-se que:\n",
    "<pre>\n",
    "Esse funcionário foi contratado em 1995, com salário inicial de R$ 1.000,00;\n",
    "Em 1996 recebeu aumento de 1,5% sobre seu salário inicial;\n",
    "A partir de 1997 (inclusive), os aumentos salariais sempre correspondem ao dobro do percentual do ano anterior. Faça um programa que determine o salário desse funcionário em 2003. \n",
    "</pre>"
   ]
  },
  {
   "cell_type": "code",
   "execution_count": null,
   "id": "98a4811b",
   "metadata": {
    "id": "98a4811b"
   },
   "outputs": [],
   "source": [
    "salario = 1000\n",
    "aumento = 1.5\n",
    "\n",
    "tempo = 2003 - 1995\n",
    "\n",
    "for i in range(tempo):\n",
    "    salario = salario * ((aumento / 100) + 1) \n",
    "    aumento = aumento * 2\n",
    "    print(salario)\n",
    "    print(aumento)"
   ]
  },
  {
   "cell_type": "markdown",
   "id": "227928d1",
   "metadata": {
    "id": "227928d1"
   },
   "source": [
    "#### 13. O cardápio de uma lanchonete é o seguinte:\n",
    "<pre>\n",
    "Especificação   Código  Preço\n",
    "Cachorro Quente 100     R$ 1,20\n",
    "Bauru Simples   101     R$ 1,30\n",
    "Bauru com ovo   102     R$ 1,50\n",
    "Hambúrguer      103     R$ 1,20\n",
    "Cheeseburguer   104     R$ 1,30\n",
    "Refrigerante    105     R$ 1,00\n",
    "Faça um programa que leia o código dos itens pedidos e as quantidades desejadas. Calcule e mostre o valor a ser pago por item (preço * quantidade) e o total geral do pedido. Considere que o cliente deve informar quando o pedido deve ser encerrado.\n",
    "</pre>"
   ]
  },
  {
   "cell_type": "code",
   "execution_count": null,
   "id": "8a784b86",
   "metadata": {
    "id": "8a784b86"
   },
   "outputs": [],
   "source": [
    "produtos = ['Cachorro Quente', 'Bauru Simples', 'Bauru com Ovo', 'Hambúrguer', 'Cheeseburguer', 'Refrigerante']\n",
    "\n",
    "codigos = [100, 101, 102, 103, 104, 105]\n",
    "precos = [1.20, 1.30, 1.50, 1.20, 1.30, 1.00]\n",
    "\n",
    "print('==============CARDÁPIO==============')\n",
    "print('Especificação     Código   Preço')\n",
    "\n",
    "for i in range(len(produtos)):\n",
    "    print('{:15} {:^10} R${:.2f} '.format(produtos[i], codigos[i], precos[i]))\n",
    "print('====================================\\n')\n",
    "\n",
    "\n",
    "pedidos = []\n",
    "quantidades = []\n",
    "valores = []\n",
    "encerrar = 'n'\n",
    "while  encerrar == 'n':\n",
    "    codigo = int(input('Informe o código do produto que deseja, de acordo com o cardápio: '))\n",
    "    while codigo not in codigos:\n",
    "            print('Código inexistente.')\n",
    "            codigo = int(input('Informe o código do produto que deseja, de acordo com o cardápio: '))\n",
    "    \n",
    "    pedidos.append(produtos[codigos.index(codigo)])\n",
    "    quantidade = int(input('Quantos {} você quer?'.format(produtos[codigos.index(codigo)])))\n",
    "    quantidades.append(quantidade)\n",
    "    valores.append(precos[codigos.index(codigo)])\n",
    "    encerrar = input('Deseja encerrar o pedido? (s - Sim, n - Não)')\n",
    "    while encerrar == '':\n",
    "        print('\\nOps! As opções são s (Sim) ou n (Não)')\n",
    "        encerrar = input('Deseja encerrar o pedido? (s - Sim, n - Não)')\n",
    "\n",
    "print('\\n                    PEDIDO                   ')\n",
    "print('=============================================')\n",
    "print('Qnt.     Produto        Vlr. Unit.  Vlr.Total')\n",
    "\n",
    "total = 0\n",
    "for i in range(len(pedidos)):\n",
    "    print('{:^3}{:^20}{:^12.2n}{:^12.2n}'.format(quantidades[i], pedidos[i], valores[i], quantidades[i] * valores[i]))\n",
    "    total += quantidades[i] * valores[i]\n",
    "print('_____________________________________________')\n",
    "print('                         Total:       R${}'.format(total))"
   ]
  },
  {
   "cell_type": "markdown",
   "id": "9877b8ba",
   "metadata": {
    "id": "9877b8ba"
   },
   "source": [
    "#### 14. Uma grande emissora de televisão quer fazer uma enquete entre os seus telespectadores para saber qual o melhor jogador após cada jogo. Para isto, faz-se necessário o desenvolvimento de um programa, que será utilizado pelas telefonistas, para a computação dos votos. Sua equipe foi contratada para desenvolver este programa, utilizando a linguagem de programação Python. Para computar cada voto, a telefonista digitará um número, entre 1 e 23, correspondente ao número da camisa do jogador. Um número de jogador igual zero, indica que a votação foi encerrada. Se um número inválido for digitado, o programa deve ignorá-lo, mostrando uma breve mensagem de aviso, e voltando a pedir outro número. Após o final da votação, o programa deverá exibir:\n",
    "<pre>a. O total de votos computados;\n",
    "b. Os números e respectivos votos de todos os jogadores que receberam votos;\n",
    "c. O percentual de votos de cada um destes jogadores;\n",
    "d. O número do jogador escolhido como o melhor jogador da partida, juntamente com o número de votos e o percentual de votos dados a ele.\n",
    "        Observe que os votos inválidos e o zero final não devem ser computados como votos. O resultado aparece ordenado pelo número do jogador. O programa deve fazer uso de arrays. O programa deverá executar o cálculo do percentual de cada jogador através de uma função. Esta função receberá dois parâmetros: o número de votos de um jogador e o total de votos. A função calculará o percentual e retornará o valor calculado. Abaixo segue uma tela de exemplo. O disposição das informações deve ser o mais próxima possível ao exemplo. Os dados são fictícios e podem mudar a cada execução do programa. Ao final, o programa deve ainda gravar os dados referentes ao resultado da votação em um arquivo texto no disco, obedecendo a mesma disposição apresentada na tela.</pre>\n",
    "```\n",
    "Enquete: Quem foi o melhor jogador?\n",
    "\n",
    "Número do jogador (0=fim): 9\n",
    "Número do jogador (0=fim): 10\n",
    "Número do jogador (0=fim): 9\n",
    "Número do jogador (0=fim): 10\n",
    "Número do jogador (0=fim): 11\n",
    "Número do jogador (0=fim): 10\n",
    "Número do jogador (0=fim): 50\n",
    "Informe um valor entre 1 e 23 ou 0 para sair!\n",
    "Número do jogador (0=fim): 9\n",
    "Número do jogador (0=fim): 9\n",
    "Número do jogador (0=fim): 0\n",
    "\n",
    "Resultado da votação:\n",
    "\n",
    "Foram computados 8 votos.\n",
    "\n",
    "Jogador Votos           %\n",
    "9               4               50,0%\n",
    "10              3               37,5%\n",
    "11              1               12,5%\n",
    "``` "
   ]
  },
  {
   "cell_type": "code",
   "execution_count": 7,
   "id": "79b82364",
   "metadata": {
    "id": "79b82364"
   },
   "outputs": [
    {
     "name": "stdout",
     "output_type": "stream",
     "text": [
      "Vote para o melhor jogador(0 = Fim): 10\n",
      "Vote para o melhor jogador(0 = Fim): 10\n",
      "Vote para o melhor jogador(0 = Fim): 10\n",
      "Vote para o melhor jogador(0 = Fim): 9\n",
      "Vote para o melhor jogador(0 = Fim): 9\n",
      "Vote para o melhor jogador(0 = Fim): 8\n",
      "Vote para o melhor jogador(0 = Fim): 11\n",
      "Vote para o melhor jogador(0 = Fim): 6\n",
      "Vote para o melhor jogador(0 = Fim): 4\n",
      "Vote para o melhor jogador(0 = Fim): 5\n",
      "Vote para o melhor jogador(0 = Fim): 6\n",
      "Vote para o melhor jogador(0 = Fim): 5\n",
      "Vote para o melhor jogador(0 = Fim): 3\n",
      "Vote para o melhor jogador(0 = Fim): 2\n",
      "Vote para o melhor jogador(0 = Fim): 1\n",
      "Vote para o melhor jogador(0 = Fim): 9\n",
      "Vote para o melhor jogador(0 = Fim): \n",
      "\n",
      "Resultado da votação:\n",
      "\n",
      " Foram computados 16 votos\n",
      "Jogador    Votos      %\n",
      "   1         1      6.25%\n",
      "   2         1      6.25%\n",
      "   3         1      6.25%\n",
      "   4         1      6.25%\n",
      "   5         2      12.50%\n",
      "   6         2      12.50%\n",
      "   8         1      6.25%\n",
      "   9         3      18.75%\n",
      "   10        3      18.75%\n",
      "   11        1      6.25%\n",
      "O melhor jogador foi o de nº 9 com 3 votos, o que corresponde a 18.75% dos votos.\n"
     ]
    }
   ],
   "source": [
    "votos = []\n",
    "jogadores = []\n",
    "voto = 1\n",
    "while voto > 0:\n",
    "    voto = input('Vote para o melhor jogador(0 = Fim): ')\n",
    "    if voto == '':\n",
    "        voto = 0\n",
    "    else:\n",
    "        voto = int(voto)\n",
    "    while voto > 23:\n",
    "        print('\\n Os números do 1 ao 23, tente novamente!')\n",
    "        voto = int(input('Vote para o melhor jogador(0 = Fim): '))\n",
    "    voto = int(voto)\n",
    "    if voto not in jogadores and voto > 0:\n",
    "        jogadores.append(voto)\n",
    "    if voto > 0:\n",
    "        votos.append(voto)\n",
    "\n",
    "jogadores.sort()\n",
    "print('\\nResultado da votação:')\n",
    "print('\\n Foram computados {} votos'.format(len(votos)))\n",
    "print('Jogador    Votos      %')\n",
    "\n",
    "melhor_jog = 0\n",
    "melhor_vot = 0\n",
    "melhor_per = 0\n",
    "for i in range(len(jogadores)):\n",
    "    if votos.count(jogadores[i]) > melhor_vot:\n",
    "        melhor_jog = jogadores[i]\n",
    "        melhor_vot = votos.count(jogadores[i])\n",
    "        melhor_per = votos.count(jogadores[i]) / (len(votos))\n",
    "    print('{:^8}{:^12}{:.2%}'.format(jogadores[i], votos.count(jogadores[i]), votos.count(jogadores[i]) / (len(votos))))\n",
    "\n",
    "print('O melhor jogador foi o de nº {} com {} votos, o que corresponde a {:.2%} dos votos.'.format(melhor_jog, melhor_vot, melhor_per))"
   ]
  }
 ],
 "metadata": {
  "colab": {
   "collapsed_sections": [],
   "provenance": []
  },
  "kernelspec": {
   "display_name": "Python 3 (ipykernel)",
   "language": "python",
   "name": "python3"
  },
  "language_info": {
   "codemirror_mode": {
    "name": "ipython",
    "version": 3
   },
   "file_extension": ".py",
   "mimetype": "text/x-python",
   "name": "python",
   "nbconvert_exporter": "python",
   "pygments_lexer": "ipython3",
   "version": "3.9.12"
  }
 },
 "nbformat": 4,
 "nbformat_minor": 5
}
