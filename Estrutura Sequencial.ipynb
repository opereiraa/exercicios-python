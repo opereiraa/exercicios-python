{
 "cells": [
  {
   "cell_type": "markdown",
   "id": "bb0f9514",
   "metadata": {},
   "source": [
    "# Lista de Estrutura Sequencial"
   ]
  },
  {
   "cell_type": "markdown",
   "id": "4e7a8c30",
   "metadata": {},
   "source": [
    "#### 1. Faça um Programa que mostre a mensagem (print) \"Alo mundo\" na tela."
   ]
  },
  {
   "cell_type": "code",
   "execution_count": 1,
   "id": "883bfe85",
   "metadata": {},
   "outputs": [
    {
     "name": "stdout",
     "output_type": "stream",
     "text": [
      "Alo mundo\n"
     ]
    }
   ],
   "source": [
    "print(\"Alo mundo\")"
   ]
  },
  {
   "cell_type": "markdown",
   "id": "71d6d6a2",
   "metadata": {},
   "source": [
    "#### 2. Faça um Programa que peça um número (input) e então mostre a mensagem: \"O número informado foi [número].\""
   ]
  },
  {
   "cell_type": "code",
   "execution_count": 19,
   "id": "30cfffcf",
   "metadata": {},
   "outputs": [
    {
     "name": "stdout",
     "output_type": "stream",
     "text": [
      "Informe seu número (apenas números)31895503\n",
      "O número informado foi 31895503\n"
     ]
    }
   ],
   "source": [
    "numero = input(\"Informe seu número (apenas números)\")\n",
    "print (\"O número informado foi {}\".format(numero))"
   ]
  },
  {
   "cell_type": "markdown",
   "id": "c5e43160",
   "metadata": {},
   "source": [
    "#### 3. Faça um Programa que peça dois números e imprima a soma."
   ]
  },
  {
   "cell_type": "code",
   "execution_count": 17,
   "id": "b0e79590",
   "metadata": {},
   "outputs": [
    {
     "name": "stdout",
     "output_type": "stream",
     "text": [
      "Gentileza informar o primeiro valor7\n",
      "Gentileza informar o segundo valor9\n",
      "O RESULTADO FOI 16 👌\n"
     ]
    }
   ],
   "source": [
    "valor1 = int(input(\"Gentileza informar o primeiro valor\"))\n",
    "valor2 = int(input(\"Gentileza informar o segundo valor\"))\n",
    "\n",
    "soma = valor1 + valor2\n",
    "\n",
    "print(f\"O RESULTADO FOI {soma} 👌\")"
   ]
  },
  {
   "cell_type": "markdown",
   "id": "17826987",
   "metadata": {},
   "source": [
    "#### 4. Faça um Programa que peça as 4 notas bimestrais de um aluno e mostre a média de todas as notas."
   ]
  },
  {
   "cell_type": "code",
   "execution_count": 21,
   "id": "23b66762",
   "metadata": {},
   "outputs": [
    {
     "name": "stdout",
     "output_type": "stream",
     "text": [
      "Informe a nota ref. 1º Bimestre4\n",
      "Informe a nota ref. 2º Bimestre3\n",
      "Informe a nota ref. 3º Bimestre2\n",
      "Informe a nota ref. 4º Bimestre8\n",
      "Sua média foi de 4.25, infelizmente está de recuperação! 😢\n"
     ]
    }
   ],
   "source": [
    "bim1 = float(input(\"Informe a nota ref. 1º Bimestre\"))\n",
    "bim2 = float(input(\"Informe a nota ref. 2º Bimestre\"))\n",
    "bim3 = float(input(\"Informe a nota ref. 3º Bimestre\"))\n",
    "bim4 = float(input(\"Informe a nota ref. 4º Bimestre\"))\n",
    "\n",
    "media = (bim1 + bim2 + bim3 + bim4)/4\n",
    "\n",
    "if media > 6 or media == 6:\n",
    "    print(f\"Parabéns, sua media foi de {media}. Você passou!👌\")\n",
    "else:\n",
    "    print(f\"Sua média foi de {media}, infelizmente está de recuperação! 😢\")"
   ]
  },
  {
   "cell_type": "markdown",
   "id": "62d461c5",
   "metadata": {},
   "source": [
    "#### 5. Faça um Programa que converta metros para centímetros. Você pode pedir o comprimento em metros para o usuário (input)."
   ]
  },
  {
   "cell_type": "code",
   "execution_count": 3,
   "id": "d642f1ba",
   "metadata": {},
   "outputs": [
    {
     "name": "stdout",
     "output_type": "stream",
     "text": [
      "Esta ferramenta serve para converter metros em centímetros.\n",
      "Gentileza informar a medida (em metros) que quer converter:5.5\n",
      "Esta medida equivale a 550.0 centímetros.\n"
     ]
    }
   ],
   "source": [
    "print(\"Esta ferramenta serve para converter metros em centímetros.\")\n",
    "metro = float(input(\"Gentileza informar a medida (em metros) que quer converter:\"))\n",
    "\n",
    "centimetro = metro * 100\n",
    "\n",
    "print(f\"Esta medida equivale a {centimetro} centímetros.\")"
   ]
  },
  {
   "cell_type": "markdown",
   "id": "f1311697",
   "metadata": {},
   "source": [
    "#### 7. Faça um Programa que calcule a área de uma sala de um apartamento. Para isso, o seu programa precisa pedir a largura da sala, o comprimento da sala e imprimir a área em m² da sala."
   ]
  },
  {
   "cell_type": "code",
   "execution_count": 23,
   "id": "612ea24b",
   "metadata": {},
   "outputs": [
    {
     "name": "stdout",
     "output_type": "stream",
     "text": [
      "Este programa serve para calcular m².\n",
      "Você tem a medida em metros (digite 1) ou centímetros (digite 2)?1\n",
      "Gentileza, informar a largura:10\n",
      "Gentileza, informar o comprimento:5\n",
      "O resultado é: 50.0 m².\n"
     ]
    }
   ],
   "source": [
    "print(\"Este programa serve para calcular m².\")\n",
    "\n",
    "q1 = int(input(\"Você tem a medida em metros (digite 1) ou centímetros (digite 2)?\"))\n",
    "\n",
    "largura = float(input(\"Gentileza, informar a largura:\"))\n",
    "comprimento = float(input(\"Gentileza, informar o comprimento:\"))\n",
    "\n",
    "if q1 == 1:\n",
    "    metroquad = largura * comprimento\n",
    "else:\n",
    "    metroquad = (largura / 100) * (comprimento / 100)\n",
    "\n",
    "print(f\"O resultado é:\", metroquad, \"m².\")"
   ]
  },
  {
   "cell_type": "markdown",
   "id": "2a285929",
   "metadata": {},
   "source": [
    "#### 8. Faça um Programa que pergunte quanto você ganha por hora e o número de horas trabalhadas no mês. Calcule e mostre o total do seu salário no referido mês."
   ]
  },
  {
   "cell_type": "code",
   "execution_count": 16,
   "id": "359e2232",
   "metadata": {},
   "outputs": [
    {
     "name": "stdout",
     "output_type": "stream",
     "text": [
      "Este programa calcula o quanto você recebe por mês com basebrem quanto você ganha por hora e, quantas horas você trabalha por dia\n",
      "Quanto você ganha por hora?8\n",
      "Quantas horas você trabalha no mês?220\n",
      "O seu salário é de 1760.0.\n"
     ]
    }
   ],
   "source": [
    "print(\"Este programa calcula o quanto você recebe por mês com basebrem quanto você ganha por hora e, quantas horas você trabalha por dia\")\n",
    "\n",
    "valor = float(input(\"Quanto você ganha por hora?\"))\n",
    "horames = float(input(\"Quantas horas você trabalha no mês?\"))\n",
    "\n",
    "salario = valor * horames\n",
    "print(f\"O seu salário é de {salario}.\")"
   ]
  },
  {
   "cell_type": "markdown",
   "id": "7e2d4615",
   "metadata": {},
   "source": [
    "#### 9. Vamos criar um conversor de temperatura. Faça um Programa que peça a temperatura em graus Fahrenheit, transforme e mostre a temperatura em graus Celsius.\n",
    "$C = \\frac{5}{9}(F-32)$"
   ]
  },
  {
   "cell_type": "code",
   "execution_count": 8,
   "id": "82daf9fd",
   "metadata": {},
   "outputs": [
    {
     "name": "stdout",
     "output_type": "stream",
     "text": [
      "Forneça a temperatura em Fahrenheit32\n",
      "0.0\n"
     ]
    }
   ],
   "source": [
    "fah = float(input(\"Forneça a temperatura em Fahrenheit\"))\n",
    "celsius = 5 / 9 * (fah - 32)\n",
    "\n",
    "print(celsius)"
   ]
  },
  {
   "cell_type": "markdown",
   "id": "20708b1c",
   "metadata": {},
   "source": [
    "#### 10. Faça um Programa que peça a temperatura em graus Celsius, transforme e mostre em graus Fahrenheit.\n",
    "$F = \\frac{9}{5}C + 32$"
   ]
  },
  {
   "cell_type": "code",
   "execution_count": 4,
   "id": "c73cfb38",
   "metadata": {},
   "outputs": [
    {
     "name": "stdout",
     "output_type": "stream",
     "text": [
      "Forneça a temperatura em Celsius0\n",
      "32.0\n"
     ]
    }
   ],
   "source": [
    "celsius = float(input(\"Forneça a temperatura em Celsius\"))\n",
    "fah = 32 + (celsius * 9/5)\n",
    "\n",
    "print(fah)"
   ]
  },
  {
   "cell_type": "markdown",
   "id": "b263a9dc",
   "metadata": {},
   "source": [
    "#### 12. Tendo como dados de entrada a altura (h) de uma pessoa, construa um algoritmo que calcule seu peso ideal, usando a seguinte fórmula:\n",
    "$P = 72,7h - 58$\n",
    "\n",
    "Lembrando que \"algoritmo\" nada mais é do que um programa, como todos os outros que você vem fazendo"
   ]
  },
  {
   "cell_type": "code",
   "execution_count": 7,
   "id": "9a9b8dca",
   "metadata": {},
   "outputs": [
    {
     "name": "stdout",
     "output_type": "stream",
     "text": [
      "Este programa calcula o seu peso ideal de acordo com a sua altura.\n",
      "Para isto, favor fornecer sua altura (use . como separador)1.70\n",
      "65.59\n"
     ]
    }
   ],
   "source": [
    "print(\"Este programa calcula o seu peso ideal de acordo com a sua altura.\")\n",
    "altura = float(input(\"Para isto, favor fornecer sua altura (use . como separador)\"))\n",
    "\n",
    "peso = 72.7 * altura - 58\n",
    "print(peso)"
   ]
  },
  {
   "cell_type": "markdown",
   "id": "13bb40d7",
   "metadata": {},
   "source": [
    "#### 13. Tendo como dado de entrada a altura (h) de uma pessoa, construa um algoritmo que calcule seu peso ideal, utilizando as seguintes fórmulas:\n",
    "##### a. Para homens: $P = 72,7h - 58$\n",
    "##### b. Para mulheres: $P = 62,1h - 44,7$"
   ]
  },
  {
   "cell_type": "code",
   "execution_count": 2,
   "id": "bf82dc8c",
   "metadata": {},
   "outputs": [
    {
     "name": "stdout",
     "output_type": "stream",
     "text": [
      "Este programa calcula o seu peso ideal de acordo com a sua altura.\n",
      "Para que possamos ser mais precisos no cálculo, você é homem (digite 1) ou mulher (digite 2)?1\n",
      "Agora, nos forneça sua altura (use . como separador)1.70\n",
      "65.59\n"
     ]
    }
   ],
   "source": [
    "print(\"Este programa calcula o seu peso ideal de acordo com a sua altura.\")\n",
    "q1 = int(input(\"Para que possamos ser mais precisos no cálculo, você é homem (digite 1) ou mulher (digite 2)?\"))\n",
    "altura = float(input(\"Agora, nos forneça sua altura (use . como separador)\"))\n",
    "\n",
    "if q1 == 1:\n",
    "        peso = 72.7 * altura - 58\n",
    "else:\n",
    "        peso = 62.1 * altura - 44.7\n",
    "print(peso)"
   ]
  },
  {
   "cell_type": "markdown",
   "id": "f208ef89",
   "metadata": {},
   "source": [
    "#### 15. Faça um Programa que pergunte quanto você ganha por hora e o número de horas trabalhadas no mês."
   ]
  },
  {
   "cell_type": "code",
   "execution_count": 5,
   "id": "2d5b23e0",
   "metadata": {},
   "outputs": [
    {
     "name": "stdout",
     "output_type": "stream",
     "text": [
      "Informe quanto você ganha por hora:8\n",
      "Informe quantas horas você trabalha mor mês:200\n"
     ]
    }
   ],
   "source": [
    "salariohora = float(input(\"Informe quanto você ganha por hora:\"))\n",
    "horasmes = float(input(\"Informe quantas horas você trabalha mor mês:\"))"
   ]
  },
  {
   "cell_type": "markdown",
   "id": "607dee3c",
   "metadata": {},
   "source": [
    "#####  Calcule o salário bruto (horas * salario por hora)"
   ]
  },
  {
   "cell_type": "code",
   "execution_count": 9,
   "id": "7f80ccbb",
   "metadata": {},
   "outputs": [
    {
     "name": "stdout",
     "output_type": "stream",
     "text": [
      "1600.0\n"
     ]
    }
   ],
   "source": [
    "salariobruto = salariohora * horasmes\n",
    "print(salariobruto)"
   ]
  },
  {
   "cell_type": "markdown",
   "id": "2ed93cb0",
   "metadata": {},
   "source": [
    "##### Calcule o desconto do IR (11% do salário bruto)"
   ]
  },
  {
   "cell_type": "code",
   "execution_count": 11,
   "id": "3363e22f",
   "metadata": {},
   "outputs": [
    {
     "name": "stdout",
     "output_type": "stream",
     "text": [
      "176.0\n"
     ]
    }
   ],
   "source": [
    "ir = salariobruto * 11 / 100\n",
    "print (ir)\n"
   ]
  },
  {
   "cell_type": "markdown",
   "id": "0994b2c0",
   "metadata": {},
   "source": [
    "##### Calcule o desconto do INSS (8% do salário bruto)"
   ]
  },
  {
   "cell_type": "code",
   "execution_count": 13,
   "id": "748c6088",
   "metadata": {},
   "outputs": [
    {
     "name": "stdout",
     "output_type": "stream",
     "text": [
      "128.0\n"
     ]
    }
   ],
   "source": [
    "inss = salariobruto * 8 / 100\n",
    "print(inss)"
   ]
  },
  {
   "cell_type": "markdown",
   "id": "06e8dae4",
   "metadata": {},
   "source": [
    "##### Calcule o desconto do sindicato (5% do salário bruto)"
   ]
  },
  {
   "cell_type": "code",
   "execution_count": 15,
   "id": "21b95b15",
   "metadata": {
    "scrolled": true
   },
   "outputs": [
    {
     "name": "stdout",
     "output_type": "stream",
     "text": [
      "80.0\n"
     ]
    }
   ],
   "source": [
    "sindicato = salariobruto * 5 / 100\n",
    "print(sindicato)"
   ]
  },
  {
   "cell_type": "markdown",
   "id": "bb14ce36",
   "metadata": {},
   "source": [
    "##### Calcule o salário líquido (salário bruto - descontos)"
   ]
  },
  {
   "cell_type": "code",
   "execution_count": 16,
   "id": "56317086",
   "metadata": {},
   "outputs": [
    {
     "name": "stdout",
     "output_type": "stream",
     "text": [
      "1216.0\n"
     ]
    }
   ],
   "source": [
    "salarioliq = salariobruto - ir - inss - sindicato\n",
    "print(salarioliq)"
   ]
  },
  {
   "cell_type": "markdown",
   "id": "cfbfcc87",
   "metadata": {},
   "source": [
    "#### 16. Faça um programa para uma loja de tintas. O programa deverá pedir o tamanho em metros quadrados da área a ser pintada. Considere que a cobertura da tinta é de 1 litro para cada 3 metros quadrados e que a tinta é vendida em latas de 18 litros, que custam R\\$ 80,00. Informe ao usuário a quantidades de latas de tinta a serem compradas e o preço total. (para simplificação nesse momento, não se preocupe em arredondar a quantidade de latas a serem compradas - vamos trabalhar isso em breve)"
   ]
  },
  {
   "cell_type": "code",
   "execution_count": 25,
   "id": "fb6a083b",
   "metadata": {},
   "outputs": [
    {
     "name": "stdout",
     "output_type": "stream",
     "text": [
      "Olá! Vamos te ajudar a calcular a quantidade de tintas que você precisará comprar para pintar o seu imóvel.\n",
      "Primeiramente, você tem a medida em m² (digite 1) ou apenas a medida de largura e comprimento (digite 2)?1\n",
      "Entendido! Gentileza nos fornecer a medida em m²:55\n",
      "Ok! Para isso você precisará de 1.0185185185185186 latas de tinta. O valor é de 81.4814814814815 Reais.\n"
     ]
    }
   ],
   "source": [
    "print(\"Olá! Vamos te ajudar a calcular a quantidade de tintas que você precisará comprar para pintar o seu imóvel.\")\n",
    "q1 = float(input(\"Primeiramente, você tem a medida em m² (digite 1) ou apenas a medida de largura e comprimento (digite 2)?\"))\n",
    "lata = 18 * 3\n",
    "valor = 80\n",
    "\n",
    "if q1 == 2:\n",
    "    largura = float(input(\"Ok, gentileza nos informar a largura (em metros):\"))\n",
    "    altura = float(input(\"Beleza, estamos quase lá! Agora precisamos do comprimento (em metros também)\"))\n",
    "    m2 = altura * largura    \n",
    "    if m2 < lata:\n",
    "        resposta = (\"Ah, para esta medida. Uma lata serve! O valor é de {valor} Reais\")\n",
    "    else:\n",
    "        conversao = m2 / lata\n",
    "        resposta = (f\"Assim sendo, você precisará de {conversao} latas de tinta. O valor é de {conversao * valor} Reais.\")\n",
    "    print(f\"Legal! Isso vai dar {m2} metros quadrados! {resposta}\")\n",
    "else:\n",
    "    m2 = float(input(\"Entendido! Gentileza nos fornecer a medida em m²:\"))\n",
    "    if m2 < lata:\n",
    "        resposta = (f\"Ah, para esta medida. Uma lata serve! O valor é de {valor} Reais\")\n",
    "        print(resposta)\n",
    "    else:\n",
    "        conversao = m2 /lata\n",
    "        resposta = (f\"Ok! Para isso você precisará de {conversao} latas de tinta. O valor é de {conversao * valor} Reais.\")\n",
    "        print(resposta)"
   ]
  },
  {
   "cell_type": "markdown",
   "id": "d6503c92",
   "metadata": {},
   "source": [
    "#### 18. Faça um programa que peça o tamanho de um arquivo para download (em MB) e a velocidade de um link de Internet (em Mbps), calcule e informe o tempo aproximado de download do arquivo usando este link (em minutos).\n",
    "\n",
    "Detalhe: MB significa megabyte, Mb (com b minúsculo) significa megabit. Um megabit é 1/8 de um megabyte. "
   ]
  },
  {
   "cell_type": "code",
   "execution_count": 27,
   "id": "0563aa62",
   "metadata": {},
   "outputs": [
    {
     "name": "stdout",
     "output_type": "stream",
     "text": [
      "Olá! Vamos te ajudar a calcular quanto tempo (em minutos) você levará para fazer este Download.\n",
      "Primeiro, qual o tamanho do arquivo (em MB)100\n",
      "Qual a velocidade de download da sua máquina?1\n",
      "Esse download levará 13.333333333333334 minutos para baixar!\n"
     ]
    }
   ],
   "source": [
    "print(\"Olá! Vamos te ajudar a calcular quanto tempo (em minutos) você levará para fazer este Download.\")\n",
    "arquivo = float(input(\"Primeiro, qual o tamanho do arquivo (em MB)\"))\n",
    "velocidade = float(input(\"Qual a velocidade de download da sua máquina?\"))\n",
    "\n",
    "arquivo_megabits = arquivo * 8\n",
    "tempo = arquivo_megabits / velocidade\n",
    "\n",
    "tempo_minutos = tempo / 60\n",
    "print(f\"Esse download levará {tempo_minutos} minutos para baixar!\")"
   ]
  }
 ],
 "metadata": {
  "kernelspec": {
   "display_name": "Python 3 (ipykernel)",
   "language": "python",
   "name": "python3"
  },
  "language_info": {
   "codemirror_mode": {
    "name": "ipython",
    "version": 3
   },
   "file_extension": ".py",
   "mimetype": "text/x-python",
   "name": "python",
   "nbconvert_exporter": "python",
   "pygments_lexer": "ipython3",
   "version": "3.9.12"
  }
 },
 "nbformat": 4,
 "nbformat_minor": 5
}
