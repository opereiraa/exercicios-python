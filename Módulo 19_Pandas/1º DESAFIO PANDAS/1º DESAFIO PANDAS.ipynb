{
 "cells": [
  {
   "cell_type": "markdown",
   "metadata": {},
   "source": [
    "# Exercício - Mini Projeto de Análise de Dados\n",
    "\n",
    "Vamos fazer um exercício completo de pandas para um miniprojeto de análise de dados.\n",
    "\n",
    "Esse exercício vai obrigar a gente a usar boa parte dos conhecimento de pandas e até de outros módulos que já aprendemos ao longo do curso.\n",
    "\n",
    "### O que temos?\n",
    "\n",
    "Temos os dados de 2019 de uma empresa de prestação de serviços. \n",
    "\n",
    "- CadastroFuncionarios\n",
    "- CadastroClientes\n",
    "- BaseServiçosPrestados\n",
    "\n",
    "Obs1: Para ler arquivos csv, temos o read_csv<br>\n",
    "Obs2: Para ler arquivos xlsx (arquivos em excel normais, que não são padrão csv), temos o read_excel\n",
    "\n",
    "### O que queremos saber/fazer?\n",
    "\n",
    "Obs: Lembrando as opções mais usuais de encoding:<br>\n",
    "encoding='latin1', encoding='ISO-8859-1', encoding='utf-8' ou então encoding='cp1252'\n",
    "\n",
    "Observação Importante: Se o seu código der um erro na hora de importar os arquivos:<br>\n",
    "- CadastroClientes.csv\n",
    "- CadastroFuncionarios.csv\n",
    "\n",
    "Use separador \";\" (ponto e vírgula) para resolver"
   ]
  },
  {
   "cell_type": "markdown",
   "metadata": {},
   "source": [
    "### IMPORTANDO MÓDULOS"
   ]
  },
  {
   "cell_type": "code",
   "execution_count": 2,
   "metadata": {},
   "outputs": [],
   "source": [
    "import pandas as pd"
   ]
  },
  {
   "cell_type": "markdown",
   "metadata": {},
   "source": [
    "### IMPORTANDO AS BASES"
   ]
  },
  {
   "cell_type": "code",
   "execution_count": 3,
   "metadata": {
    "scrolled": true
   },
   "outputs": [],
   "source": [
    "cadastro_clientes_df = pd.read_csv('CadastroClientes.csv', sep=';')\n",
    "cadastro_funcionarios_df = pd.read_csv('CadastroFuncionarios.csv', sep=';', decimal=',')\n",
    "base_servicos_df = pd.read_excel('BaseServiçosPrestados.xlsx')"
   ]
  },
  {
   "cell_type": "markdown",
   "metadata": {},
   "source": [
    "#### 1º EXERCÍCIO: \n",
    "\n",
    "Valor Total da Folha Salarial -> Qual foi o gasto total com salários de funcionários pela empresa? <br>\n",
    "Sugestão: calcule o salário total de cada funcionário, salário + benefícios + impostos, depois some todos os salários"
   ]
  },
  {
   "cell_type": "code",
   "execution_count": 4,
   "metadata": {},
   "outputs": [
    {
     "name": "stdout",
     "output_type": "stream",
     "text": [
      "Total Folha Salarial: 2,717,493.22\n"
     ]
    }
   ],
   "source": [
    "cadastro_funcionarios_df['Salario Total'] = cadastro_funcionarios_df['Salario Base'] + cadastro_funcionarios_df['Impostos'] + cadastro_funcionarios_df['Beneficios'] + cadastro_funcionarios_df['VT'] + cadastro_funcionarios_df['VR']\n",
    "print('Total Folha Salarial: {:,}'.format(sum(cadastro_funcionarios_df['Salario Total'])))"
   ]
  },
  {
   "cell_type": "markdown",
   "metadata": {},
   "source": [
    "#### 2º EXERCÍCIO:\n",
    "\n",
    "Qual foi o faturamento da empresa?<br>\n",
    "Sugestão: calcule o faturamento total de cada serviço e depois some o faturamento de todos"
   ]
  },
  {
   "cell_type": "code",
   "execution_count": 6,
   "metadata": {},
   "outputs": [
    {
     "name": "stdout",
     "output_type": "stream",
     "text": [
      "O faturamento total foi de R$5,519,160\n"
     ]
    }
   ],
   "source": [
    "base_servico_completa_df = pd.merge(base_servicos_df, cadastro_clientes_df, on = 'ID Cliente')\n",
    "base_servico_completa_df['Total Serviço'] = base_servico_completa_df['Tempo Total de Contrato (Meses)'] * base_servico_completa_df['Valor Contrato Mensal']\n",
    "\n",
    "\n",
    "print('O faturamento total foi de R${:,}'.format(base_servico_completa_df['Total Serviço'].sum()))"
   ]
  },
  {
   "cell_type": "markdown",
   "metadata": {},
   "source": [
    "#### 3º EXERCÍCIO:\n",
    "\n",
    "Qual o % de funcionários que já fechou algum contrato?<br>\n",
    "    Sugestão: na base de serviços temos o funcionário que fechou cada serviço. Mas nem todos os funcionários que a empresa tem já fecharam algum serviço.<br>\n",
    "    . Na base de funcionários temos uma lista com todos os funcionários<br>\n",
    "    . Queremos calcular Qtde_Funcionarios_Fecharam_Serviço / Qtde_Funcionários_Totais<br>\n",
    "    . Para calcular a qtde de funcionários que fecharam algum serviço, use a base de serviços e conte quantos funcionários tem ali. Mas lembre-se, cada funcionário só pode ser contado uma única vez.<br><br>\n",
    "    Dica: se você aplicar o método .unique() em uma variável que é apenas 1 coluna de um dataframe, ele vai excluir todos os valores duplicados daquela coluna.<br>\n",
    "    Ex: unicos_colunaA = dataframe['colunaA'].unique() te dá como resposta uma lista com todos os itens da colunaA aparecendo uma única vez. Todos os valores repetidos da colunaA são excluidos da variável unicos_colunaA "
   ]
  },
  {
   "cell_type": "code",
   "execution_count": null,
   "metadata": {},
   "outputs": [],
   "source": [
    "percentual_funcionarios_venderam = len(list(base_servicos_df['ID Funcionário'].unique())) / len(cadastro_funcionarios_df['ID Funcionário'])\n",
    "print('{:.2%} dos funcionários fecharam contrato.'.format(percentual_funcionarios_venderam))"
   ]
  },
  {
   "cell_type": "markdown",
   "metadata": {},
   "source": [
    "#### 4º EXERCÍCIO: \n",
    "\n",
    "Calcule o total de contratos que cada área da empresa já fechou"
   ]
  },
  {
   "cell_type": "code",
   "execution_count": 9,
   "metadata": {},
   "outputs": [
    {
     "data": {
      "text/plain": [
       "Administrativo    63\n",
       "Operações         48\n",
       "Comercial         44\n",
       "Financeiro        42\n",
       "Logística         40\n",
       "Name: Area, dtype: int64"
      ]
     },
     "metadata": {},
     "output_type": "display_data"
    }
   ],
   "source": [
    "#Juntando as bases de serviço e cadastro de funcionários.\n",
    "base_por_area = pd.merge(base_servicos_df, cadastro_funcionarios_df, on='ID Funcionário')\n",
    "\n",
    "print((base_por_area['Area'].value_counts())"
   ]
  },
  {
   "cell_type": "markdown",
   "metadata": {},
   "source": [
    "#### 5º EXERCÍCIO:\n",
    "Calcule o total de funcionários por área"
   ]
  },
  {
   "cell_type": "code",
   "execution_count": 11,
   "metadata": {},
   "outputs": [
    {
     "name": "stdout",
     "output_type": "stream",
     "text": [
      "Administrativo    26\n",
      "Comercial         26\n",
      "Operações         23\n",
      "Logística         21\n",
      "Financeiro        18\n",
      "Name: Area, dtype: int64\n"
     ]
    }
   ],
   "source": [
    "print(cadastro_funcionarios_df['Area'].value_counts())"
   ]
  },
  {
   "cell_type": "markdown",
   "metadata": {},
   "source": [
    "#### 6º EXERCÍCIO: \n",
    "\n",
    "Qual o ticket médio mensal (faturamento médio mensal) dos contratos?<br>\n",
    "Dica: .mean() calcula a média -> exemplo: media_colunaA = dataframe['colunaA'].mean()"
   ]
  },
  {
   "cell_type": "code",
   "execution_count": 12,
   "metadata": {},
   "outputs": [
    {
     "name": "stdout",
     "output_type": "stream",
     "text": [
      "O Ticket Médio Mensal é de R$2,502.562\n"
     ]
    }
   ],
   "source": [
    "ticket_medio_mensal = cadastro_clientes_df['Valor Contrato Mensal'].mean()\n",
    "print('O Ticket Médio Mensal é de R${:,.7}'.format(ticket_medio_mensal))"
   ]
  }
 ],
 "metadata": {
  "kernelspec": {
   "display_name": "Python 3 (ipykernel)",
   "language": "python",
   "name": "python3"
  },
  "language_info": {
   "codemirror_mode": {
    "name": "ipython",
    "version": 3
   },
   "file_extension": ".py",
   "mimetype": "text/x-python",
   "name": "python",
   "nbconvert_exporter": "python",
   "pygments_lexer": "ipython3",
   "version": "3.9.12"
  }
 },
 "nbformat": 4,
 "nbformat_minor": 4
}
