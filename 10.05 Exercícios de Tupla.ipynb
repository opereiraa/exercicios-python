{
 "cells": [
  {
   "cell_type": "markdown",
   "metadata": {},
   "source": [
    "# Exercícios\n",
    "\n",
    "São exercícios bem parecidos com os que fizemos com listas. Mas na tupla, podemos não só trabalhar com índices, mas fazer o \"unpacking\" das tuplas, o que pode facilitar nossos códigos.\n",
    "\n",
    "## 1. Análise de Vendas\n",
    "\n",
    "Nesse exercício vamos fazer uma \"análise simples\" de atingimento de Meta.\n",
    "\n",
    "Temos uma lista com os vendedores e os valores de vendas e queremos identificar (printar) quais os vendedores que bateram a meta e qual foi o valor que eles venderam."
   ]
  },
  {
   "cell_type": "code",
   "execution_count": 6,
   "metadata": {},
   "outputs": [
    {
     "name": "stdout",
     "output_type": "stream",
     "text": [
      "O vendedor João bateu a meta com R$15,000 em vendas\n",
      "O vendedor Julia bateu a meta com R$27,000 em vendas\n",
      "O vendedor Ana bateu a meta com R$10,300 em vendas\n"
     ]
    }
   ],
   "source": [
    "meta = 10000\n",
    "vendas = [\n",
    "    ('João', 15000),\n",
    "    ('Julia', 27000),\n",
    "    ('Marcus', 9900),\n",
    "    ('Maria', 3750),\n",
    "    ('Ana', 10300),\n",
    "    ('Alon', 7870),\n",
    "]\n",
    "\n",
    "for vendedor, venda in vendas:\n",
    "    if venda >= meta:\n",
    "        print('O vendedor {} bateu a meta com R${:,} em vendas'.format(vendedor, venda))"
   ]
  },
  {
   "cell_type": "markdown",
   "metadata": {},
   "source": [
    "## 2. Comparação com Ano Anterior\n",
    "\n",
    "Digamos que você está analisando as vendas de produtos de um ecommerce e quer identificar quais produtos tiveram no ano de 2020 mais vendas do que no ano de 2019, para reportar isso para a diretoria.\n",
    "\n",
    "Sua resposta pode ser um print de cada produto, qual foi a venda de 2019, a venda de 2020 e o % de crescimento de 2020 para 2019.\n",
    "\n",
    "Lembrando, para calcular o % de crescimento de um produto de um ano para o outro, podemos fazer: (vendas_produto2020/vendas_produto2019 - 1)\n",
    "\n",
    "A lógica da tupla é: (produto, vendas2019, vendas2020)"
   ]
  },
  {
   "cell_type": "code",
   "execution_count": 8,
   "metadata": {},
   "outputs": [
    {
     "name": "stdout",
     "output_type": "stream",
     "text": [
      "O produto iphone teve um aumento de 70.50% com 951642 em vendas em 2020 contra 558147 em 2019.\n",
      "O produto tv teve um aumento de 94.35% com 787604 em vendas em 2020 contra 405252 em 2019.\n",
      "O produto máquina de café teve um aumento de 20.73% com 867660 em vendas em 2020 contra 718654 em 2019.\n",
      "O produto notebook dell teve um aumento de 64.38% com 694913 em vendas em 2020 contra 422760 em 2019.\n",
      "O produto notebook hp teve um aumento de 248.75% com 539704 em vendas em 2020 contra 154753 em 2019.\n",
      "O produto microsoft surface teve um aumento de 52.15% com 667179 em vendas em 2020 contra 438508 em 2019.\n",
      "O produto webcam teve um aumento de 24.49% com 295633 em vendas em 2020 contra 237467 em 2019.\n",
      "O produto caixa de som teve um aumento de 48.11% com 725316 em vendas em 2020 contra 489705 em 2019.\n",
      "O produto microfone teve um aumento de 96.34% com 644622 em vendas em 2020 contra 328311 em 2019.\n",
      "O produto câmera canon teve um aumento de 68.21% com 994303 em vendas em 2020 contra 591120 em 2019.\n"
     ]
    }
   ],
   "source": [
    "vendas_produtos = [('iphone', 558147, 951642), ('galaxy', 712350, 244295), ('ipad', 573823, 26964), ('tv', 405252, 787604), ('máquina de café', 718654, 867660), ('kindle', 531580, 78830), ('geladeira', 973139, 710331), ('adega', 892292, 646016), ('notebook dell', 422760, 694913), ('notebook hp', 154753, 539704), ('notebook asus', 887061, 324831), ('microsoft surface', 438508, 667179), ('webcam', 237467, 295633), ('caixa de som', 489705, 725316), ('microfone', 328311, 644622), ('câmera canon', 591120, 994303)]\n",
    "\n",
    "for produto, vendas2019, vendas2020 in vendas_produtos:\n",
    "    if vendas2020 > vendas2019:\n",
    "        crescimento = vendas2020 / vendas2019 -1 \n",
    "        print('O produto {} teve um aumento de {:.2%} com {} em vendas em 2020 contra {} em 2019.'.format(produto, crescimento, vendas2020, vendas2019))\n",
    "#seu código aqui"
   ]
  }
 ],
 "metadata": {
  "kernelspec": {
   "display_name": "Python 3 (ipykernel)",
   "language": "python",
   "name": "python3"
  },
  "language_info": {
   "codemirror_mode": {
    "name": "ipython",
    "version": 3
   },
   "file_extension": ".py",
   "mimetype": "text/x-python",
   "name": "python",
   "nbconvert_exporter": "python",
   "pygments_lexer": "ipython3",
   "version": "3.9.12"
  }
 },
 "nbformat": 4,
 "nbformat_minor": 4
}
