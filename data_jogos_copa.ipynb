{
 "cells": [
  {
   "cell_type": "code",
   "execution_count": null,
   "id": "50833b21",
   "metadata": {},
   "outputs": [
    {
     "name": "stdout",
     "output_type": "stream",
     "text": [
      ".\n",
      ".\n",
      ".\n",
      "4\" - Alisson sai jogando errado, dá um susto, mas defesa brasileira afasta.\n",
      ".\n",
      ".\n",
      ".\n",
      "10\" - Dez minutos de uma partida ainda sem muitas emoções. Brasil tenta acelerar o jogo, mas a Suíça faz justamente o contrário.\n",
      ".\n",
      ".\n",
      ".\n",
      "11\" - Brasil chega pela direita com Richarlison, que busca o passe para Vini Jr. A zaga suíça afasta a bola.\n",
      ".\n",
      ".\n",
      ".\n",
      "12\" - Boa troca de passes, e Fred entrega para Richarlison na área. Camisa 9 não consegue dominar direito e a bola sai pela linha de fundo.\n",
      ".\n",
      ".\n",
      ".\n",
      "13\" - Falta de Casemiro em Embola. Vem bola levantada na área.\n",
      ".\n",
      ".\n",
      ".\n",
      "None\" - Neymar postou esta foto em seu Instagram. O atacante ficou no hotel fazendo tratamento no tornozelo enquanto assist… https://t.co/ZQdFa9vrc0\n",
      ".\n",
      ".\n",
      ".\n",
      "18\" - Mais uma falta de Reider em cima de Vini Jr.\n",
      ".\n",
      ".\n",
      ".\n",
      "18\" - Lucas Paquetá cruza rasteiro pela esquerda, mas Elvedi corta na pequena área na hora certa. Ou hora errada.\n",
      ".\n",
      ".\n",
      ".\n",
      "20\" - 20 minutos de jogo no Estádio 974. Zero para o Brasil, zero para a Suíça.\n",
      ".\n",
      ".\n",
      ".\n",
      "26\" - Quase o primeiro gol brasileiro. Raphinha acha lindo cruzamento para Vini Jr, que bate para defesa de Sommer.\n",
      ".\n",
      ".\n",
      ".\n",
      "30\" - Raphinha tabela pela direita, arrisca de longe, mas Sommer faz defesa segura no meio do gol.\n"
     ]
    }
   ],
   "source": [
    "import requests\n",
    "from time import sleep\n",
    "from datetime import datetime\n",
    "\n",
    "def get_match_data():\n",
    "    return requests.get(\n",
    "    url='https://temporeal.lance.com.br/storage/matches/copa-do-mundo-2022-28-11-2022-brasilxsuica.json').json()\n",
    "\n",
    "last_update = None\n",
    "while True:\n",
    "    match_data = get_match_data()\n",
    "    \n",
    "    narrations = match_data['match']['narrations']\n",
    "    last_narration = narrations[len(narrations)-1]\n",
    "    last_narration_time = datetime.strptime(last_narration['created_at'],'%Y-%m-%dT%H:%M:%S.000000Z')\n",
    "    \n",
    "    if (not last_update) or (last_narration_time > last_update):\n",
    "        last_update = last_narration_time\n",
    "        last_narration_moment = narrations[len(narrations)-1]['moment']\n",
    "        last_narration_text = narrations[len(narrations)-1]['text']\n",
    "        print(f'.\\n.\\n.\\n{last_narration_moment}\" - {last_narration_text}')\n",
    "    \n",
    "sleep(30)"
   ]
  }
 ],
 "metadata": {
  "kernelspec": {
   "display_name": "Python 3 (ipykernel)",
   "language": "python",
   "name": "python3"
  },
  "language_info": {
   "codemirror_mode": {
    "name": "ipython",
    "version": 3
   },
   "file_extension": ".py",
   "mimetype": "text/x-python",
   "name": "python",
   "nbconvert_exporter": "python",
   "pygments_lexer": "ipython3",
   "version": "3.9.12"
  }
 },
 "nbformat": 4,
 "nbformat_minor": 5
}
