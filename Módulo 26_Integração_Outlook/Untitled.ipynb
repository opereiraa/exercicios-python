{
 "cells": [
  {
   "cell_type": "markdown",
   "id": "3e2b5db6",
   "metadata": {},
   "source": [
    "# Desafio Python e E-mail\n",
    "\n",
    "### Descrição\n",
    "\n",
    "Digamos que você trabalha em uma indústria e está responsável pela área de inteligência de negócio.\n",
    "\n",
    "Todo dia, você, a equipe ou até mesmo um programa, gera um report diferente para cada área da empresa:\n",
    "- Financeiro\n",
    "- Logística\n",
    "- Manutenção\n",
    "- Marketing\n",
    "- Operações\n",
    "- Produção\n",
    "- Vendas\n",
    "\n",
    "Cada um desses reports deve ser enviado por e-mail para o Gerente de cada Área.\n",
    "\n",
    "Crie um programa que faça isso automaticamente. A relação de Gerentes (com seus respectivos e-mails) e áreas está no arquivo 'Enviar E-mails.xlsx'.\n",
    "\n",
    "Dica: Use o pandas read_excel para ler o arquivo dos e-mails que isso vai facilitar."
   ]
  },
  {
   "cell_type": "code",
   "execution_count": 3,
   "id": "d193287c",
   "metadata": {},
   "outputs": [],
   "source": [
    "import pandas as pd\n",
    "import win32com.client as win32\n",
    "outlook = win32.Dispatch('outlook.application')"
   ]
  },
  {
   "cell_type": "code",
   "execution_count": 65,
   "id": "8470a94a",
   "metadata": {},
   "outputs": [],
   "source": [
    "#lista de e-mails:\n",
    "\n",
    "mailBaseDB = pd.read_excel('Enviar E-mails.xlsx')\n",
    "\n",
    "for i, email in enumerate(mailBaseDB['E-mail']):\n",
    "    gerente = mailBaseDB.loc[i, 'Gerente']\n",
    "    area = mailBaseDB.loc[i, 'Relatório']\n",
    "    \n",
    "    mail = outlook.CreateItem(0)\n",
    "    mail.To = email\n",
    "    mail.Subject = f'Relatório de {area}'\n",
    "    mail.Body = f'Prezado {gerente}, boa noite\\nEspero que estejas bem! \\n\\nGentileza notar em anexo relatório atualizado.\\n\\nAtenciosamente. ' \n",
    "    attachment = r'C:\\Users\\Matheus\\OneDrive - Universidade Estadual do Paraná - Unespar\\Cursos e Trabalhos\\14 [HASHTAG] PYTHON\\Módulo 23_Integração_Outlook\\{}.xlsx'.format(area)\n",
    "    mail.Attachments.Add(attachment)\n",
    "    \n",
    "    #mail.Send()"
   ]
  },
  {
   "cell_type": "code",
   "execution_count": 58,
   "id": "e6733e08",
   "metadata": {},
   "outputs": [
    {
     "name": "stdout",
     "output_type": "stream",
     "text": [
      "Maria\n"
     ]
    }
   ],
   "source": []
  },
  {
   "cell_type": "code",
   "execution_count": null,
   "id": "323abe6d",
   "metadata": {},
   "outputs": [],
   "source": []
  }
 ],
 "metadata": {
  "kernelspec": {
   "display_name": "Python 3 (ipykernel)",
   "language": "python",
   "name": "python3"
  },
  "language_info": {
   "codemirror_mode": {
    "name": "ipython",
    "version": 3
   },
   "file_extension": ".py",
   "mimetype": "text/x-python",
   "name": "python",
   "nbconvert_exporter": "python",
   "pygments_lexer": "ipython3",
   "version": "3.9.12"
  }
 },
 "nbformat": 4,
 "nbformat_minor": 5
}
